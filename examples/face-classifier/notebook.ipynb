{
 "cells": [
  {
   "cell_type": "code",
   "execution_count": 4,
   "id": "cd012498",
   "metadata": {},
   "outputs": [
    {
     "name": "stdout",
     "output_type": "stream",
     "text": [
      "Requirement already satisfied: codecarbon in /Users/jules/Projects/green-hackathon/env/lib/python3.9/site-packages (2.3.1)\n",
      "Requirement already satisfied: pandas in /Users/jules/Projects/green-hackathon/env/lib/python3.9/site-packages (from codecarbon) (2.1.2)\n",
      "Requirement already satisfied: pynvml in /Users/jules/Projects/green-hackathon/env/lib/python3.9/site-packages (from codecarbon) (11.5.0)\n",
      "Requirement already satisfied: click in /Users/jules/Projects/green-hackathon/env/lib/python3.9/site-packages (from codecarbon) (8.1.7)\n",
      "Requirement already satisfied: requests in /Users/jules/Projects/green-hackathon/env/lib/python3.9/site-packages (from codecarbon) (2.31.0)\n",
      "Requirement already satisfied: psutil in /Users/jules/Projects/green-hackathon/env/lib/python3.9/site-packages (from codecarbon) (5.9.6)\n",
      "Requirement already satisfied: py-cpuinfo in /Users/jules/Projects/green-hackathon/env/lib/python3.9/site-packages (from codecarbon) (9.0.0)\n",
      "Requirement already satisfied: fuzzywuzzy in /Users/jules/Projects/green-hackathon/env/lib/python3.9/site-packages (from codecarbon) (0.18.0)\n",
      "Requirement already satisfied: arrow in /Users/jules/Projects/green-hackathon/env/lib/python3.9/site-packages (from codecarbon) (1.3.0)\n",
      "Requirement already satisfied: prometheus-client in /Users/jules/Projects/green-hackathon/env/lib/python3.9/site-packages (from codecarbon) (0.18.0)\n",
      "Requirement already satisfied: types-python-dateutil>=2.8.10 in /Users/jules/Projects/green-hackathon/env/lib/python3.9/site-packages (from arrow->codecarbon) (2.8.19.14)\n",
      "Requirement already satisfied: python-dateutil>=2.7.0 in /Users/jules/Projects/green-hackathon/env/lib/python3.9/site-packages (from arrow->codecarbon) (2.8.2)\n",
      "Requirement already satisfied: six>=1.5 in /Users/jules/Projects/green-hackathon/env/lib/python3.9/site-packages (from python-dateutil>=2.7.0->arrow->codecarbon) (1.16.0)\n",
      "Requirement already satisfied: numpy<2,>=1.22.4 in /Users/jules/Projects/green-hackathon/env/lib/python3.9/site-packages (from pandas->codecarbon) (1.26.1)\n",
      "Requirement already satisfied: tzdata>=2022.1 in /Users/jules/Projects/green-hackathon/env/lib/python3.9/site-packages (from pandas->codecarbon) (2023.3)\n",
      "Requirement already satisfied: pytz>=2020.1 in /Users/jules/Projects/green-hackathon/env/lib/python3.9/site-packages (from pandas->codecarbon) (2023.3.post1)\n",
      "Requirement already satisfied: urllib3<3,>=1.21.1 in /Users/jules/Projects/green-hackathon/env/lib/python3.9/site-packages (from requests->codecarbon) (2.0.7)\n",
      "Requirement already satisfied: idna<4,>=2.5 in /Users/jules/Projects/green-hackathon/env/lib/python3.9/site-packages (from requests->codecarbon) (3.4)\n",
      "Requirement already satisfied: certifi>=2017.4.17 in /Users/jules/Projects/green-hackathon/env/lib/python3.9/site-packages (from requests->codecarbon) (2023.7.22)\n",
      "Requirement already satisfied: charset-normalizer<4,>=2 in /Users/jules/Projects/green-hackathon/env/lib/python3.9/site-packages (from requests->codecarbon) (3.3.2)\n",
      "\u001b[33mWARNING: You are using pip version 21.2.4; however, version 23.3.1 is available.\n",
      "You should consider upgrading via the '/Users/jules/Projects/green-hackathon/env/bin/python -m pip install --upgrade pip' command.\u001b[0m\n",
      "Note: you may need to restart the kernel to use updated packages.\n"
     ]
    }
   ],
   "source": [
    "pip install codecarbon"
   ]
  },
  {
   "cell_type": "code",
   "execution_count": 5,
   "id": "0b575558",
   "metadata": {},
   "outputs": [
    {
     "name": "stdout",
     "output_type": "stream",
     "text": [
      "/Users/jules/Projects/green-hackathon/env/lib/python3.9/site-packages/urllib3/__init__.py:34: NotOpenSSLWarning: urllib3 v2.0 only supports OpenSSL 1.1.1+, currently the 'ssl' module is compiled with 'LibreSSL 2.8.3'. See: https://github.com/urllib3/urllib3/issues/3020\n",
      "  warnings.warn(\n",
      "\n",
      "Welcome to CodeCarbon, here is your experiment id:\n",
      "\u001b[92m73c54d65-6fc8-4a34-bef1-c56b3a73de67\u001b[0m (from \u001b[94m./.codecarbon.config\u001b[0m)\n",
      "\n"
     ]
    }
   ],
   "source": [
    "! codecarbon init"
   ]
  },
  {
   "cell_type": "code",
   "execution_count": 8,
   "id": "9d2c083d",
   "metadata": {},
   "outputs": [],
   "source": [
    "## CNN \n",
    "import numpy as np\n",
    "import torch\n",
    "import torchvision\n",
    "import torchvision.transforms as transforms\n",
    "\n",
    "train_dir = 'data/train_images'\n",
    "test_dir = 'data/test_images'\n",
    "\n",
    "transform = transforms.Compose(\n",
    "    [transforms.Grayscale(),\n",
    "     transforms.ToTensor(),\n",
    "     transforms.Normalize(mean=(0,),std=(1,))])\n",
    "\n",
    "train_data = torchvision.datasets.ImageFolder(train_dir, transform=transform)\n",
    "test_data = torchvision.datasets.ImageFolder(test_dir, transform=transform)"
   ]
  },
  {
   "cell_type": "code",
   "execution_count": 9,
   "id": "74f149fc",
   "metadata": {},
   "outputs": [],
   "source": [
    "from torch.utils.data.sampler import SubsetRandomSampler\n",
    "\n",
    "valid_size = 0.2\n",
    "batch_size = 32\n",
    "seed = 42\n",
    "np.random.seed(seed)\n",
    "torch.manual_seed(seed)\n",
    "\n",
    "num_train = len(train_data)\n",
    "indices_train = list(range(num_train))\n",
    "np.random.shuffle(indices_train)\n",
    "split_tv = int(np.floor(valid_size * num_train))\n",
    "train_new_idx, valid_idx = indices_train[split_tv:],indices_train[:split_tv]\n",
    "\n",
    "train_sampler = SubsetRandomSampler(train_new_idx)\n",
    "valid_sampler = SubsetRandomSampler(valid_idx)\n",
    "\n",
    "train_loader = torch.utils.data.DataLoader(train_data, batch_size=batch_size, sampler=train_sampler, num_workers=5)\n",
    "valid_loader = torch.utils.data.DataLoader(train_data, batch_size=batch_size, sampler=valid_sampler, num_workers=5)\n",
    "test_loader = torch.utils.data.DataLoader(test_data, batch_size=batch_size, shuffle=True, num_workers=5)\n",
    "classes = ('noface','face')"
   ]
  },
  {
   "cell_type": "code",
   "execution_count": 10,
   "id": "7d0b4b6d",
   "metadata": {},
   "outputs": [],
   "source": [
    "# Set device\n",
    "device = torch.device(\"cuda\" if torch.cuda.is_available() else \"cpu\")"
   ]
  },
  {
   "cell_type": "code",
   "execution_count": 11,
   "id": "66e468c1",
   "metadata": {},
   "outputs": [],
   "source": [
    "import torch.nn as nn\n",
    "import torch.nn.functional as F\n",
    "\n",
    "\n",
    "class Net(nn.Module):\n",
    "    def __init__(self):\n",
    "        super(Net, self).__init__()\n",
    "        self.conv1 = nn.Conv2d(1, 6, 5)\n",
    "        self.pool = nn.MaxPool2d(2, 2)\n",
    "        self.conv2 = nn.Conv2d(6, 16, 5)\n",
    "        self.fc1 = nn.Linear(16 * 6 * 6, 32)\n",
    "        self.fc2 = nn.Linear(32, 16)\n",
    "        self.fc3 = nn.Linear(16, 2)\n",
    "\n",
    "    def forward(self, x):\n",
    "        x = self.pool(F.relu(self.conv1(x)))\n",
    "        x = self.pool(F.relu(self.conv2(x)))\n",
    "        x = x.view(-1, 16 * 6 * 6)\n",
    "        x = F.relu(self.fc1(x))\n",
    "        x = F.relu(self.fc2(x))\n",
    "        x = self.fc3(x)\n",
    "        return x\n",
    "\n",
    "model_3_layers_no_augmentation = Net().to(device)"
   ]
  },
  {
   "cell_type": "code",
   "execution_count": 12,
   "id": "b03d6235",
   "metadata": {},
   "outputs": [],
   "source": [
    "def train_NN(n_epochs, optimizer, model, criterion):\n",
    "    for epoch in range(1, n_epochs+1):  # loop over the dataset multiple times\n",
    "        running_loss = 0.0\n",
    "        for i, data in enumerate(train_loader, 0):\n",
    "            # get the inputs; data is a list of [inputs, labels]\n",
    "            inputs, labels = data\n",
    "            inputs = inputs.to(device)\n",
    "            labels = labels.to(device)\n",
    "            # zero the parameter gradients\n",
    "            optimizer.zero_grad()\n",
    "\n",
    "            # forward + backward + optimize\n",
    "            outputs = model(inputs)\n",
    "            loss = criterion(outputs, labels)\n",
    "            loss.backward()\n",
    "            optimizer.step()\n",
    "\n",
    "            running_loss += loss.item()\n",
    "\n",
    "        # print statistics after every epoch\n",
    "        print(f'[{epoch}, {i + 1:5d}] loss: {running_loss / len(train_loader):.3f}')\n",
    "\n",
    "    print('Finished Training')"
   ]
  },
  {
   "cell_type": "code",
   "execution_count": 13,
   "id": "f0d8f08d",
   "metadata": {},
   "outputs": [
    {
     "name": "stdout",
     "output_type": "stream",
     "text": [
      "2270\n"
     ]
    }
   ],
   "source": [
    "print(len(train_loader))"
   ]
  },
  {
   "cell_type": "code",
   "execution_count": 14,
   "id": "4107c6ff",
   "metadata": {},
   "outputs": [
    {
     "name": "stderr",
     "output_type": "stream",
     "text": [
      "[codecarbon INFO @ 15:28:47] [setup] RAM Tracking...\n",
      "[codecarbon INFO @ 15:28:47] [setup] GPU Tracking...\n",
      "[codecarbon INFO @ 15:28:47] No GPU found.\n",
      "[codecarbon INFO @ 15:28:47] [setup] CPU Tracking...\n",
      "[codecarbon WARNING @ 15:28:47] No CPU tracking mode found. Falling back on CPU constant mode.\n",
      "[codecarbon INFO @ 15:28:47] CPU Model on constant consumption mode: Apple M1\n",
      "[codecarbon INFO @ 15:28:47] >>> Tracker's metadata:\n",
      "[codecarbon INFO @ 15:28:47]   Platform system: macOS-14.0-arm64-arm-64bit\n",
      "[codecarbon INFO @ 15:28:47]   Python version: 3.9.6\n",
      "[codecarbon INFO @ 15:28:47]   CodeCarbon version: 2.3.1\n",
      "[codecarbon INFO @ 15:28:47]   Available RAM : 16.000 GB\n",
      "[codecarbon INFO @ 15:28:47]   CPU count: 8\n",
      "[codecarbon INFO @ 15:28:47]   CPU model: Apple M1\n",
      "[codecarbon INFO @ 15:28:47]   GPU count: None\n",
      "[codecarbon INFO @ 15:28:47]   GPU model: None\n",
      "/Users/jules/Projects/green-hackathon/env/lib/python3.9/site-packages/urllib3/__init__.py:34: NotOpenSSLWarning: urllib3 v2.0 only supports OpenSSL 1.1.1+, currently the 'ssl' module is compiled with 'LibreSSL 2.8.3'. See: https://github.com/urllib3/urllib3/issues/3020\n",
      "  warnings.warn(\n",
      "/Users/jules/Projects/green-hackathon/env/lib/python3.9/site-packages/urllib3/__init__.py:34: NotOpenSSLWarning: urllib3 v2.0 only supports OpenSSL 1.1.1+, currently the 'ssl' module is compiled with 'LibreSSL 2.8.3'. See: https://github.com/urllib3/urllib3/issues/3020\n",
      "  warnings.warn(\n",
      "/Users/jules/Projects/green-hackathon/env/lib/python3.9/site-packages/urllib3/__init__.py:34: NotOpenSSLWarning: urllib3 v2.0 only supports OpenSSL 1.1.1+, currently the 'ssl' module is compiled with 'LibreSSL 2.8.3'. See: https://github.com/urllib3/urllib3/issues/3020\n",
      "  warnings.warn(\n",
      "/Users/jules/Projects/green-hackathon/env/lib/python3.9/site-packages/urllib3/__init__.py:34: NotOpenSSLWarning: urllib3 v2.0 only supports OpenSSL 1.1.1+, currently the 'ssl' module is compiled with 'LibreSSL 2.8.3'. See: https://github.com/urllib3/urllib3/issues/3020\n",
      "  warnings.warn(\n",
      "/Users/jules/Projects/green-hackathon/env/lib/python3.9/site-packages/urllib3/__init__.py:34: NotOpenSSLWarning: urllib3 v2.0 only supports OpenSSL 1.1.1+, currently the 'ssl' module is compiled with 'LibreSSL 2.8.3'. See: https://github.com/urllib3/urllib3/issues/3020\n",
      "  warnings.warn(\n",
      "[codecarbon INFO @ 15:29:05] Energy consumed for RAM : 0.000025 kWh. RAM Power : 6.0 W\n",
      "[codecarbon INFO @ 15:29:05] Energy consumed for all CPUs : 0.000021 kWh. Total CPU Power : 5.0 W\n",
      "[codecarbon INFO @ 15:29:05] 0.000046 kWh of electricity used since the beginning.\n",
      "[codecarbon INFO @ 15:29:20] Energy consumed for RAM : 0.000050 kWh. RAM Power : 6.0 W\n",
      "[codecarbon INFO @ 15:29:20] Energy consumed for all CPUs : 0.000042 kWh. Total CPU Power : 5.0 W\n",
      "[codecarbon INFO @ 15:29:20] 0.000092 kWh of electricity used since the beginning.\n",
      "[codecarbon INFO @ 15:29:35] Energy consumed for RAM : 0.000075 kWh. RAM Power : 6.0 W\n",
      "[codecarbon INFO @ 15:29:35] Energy consumed for all CPUs : 0.000063 kWh. Total CPU Power : 5.0 W\n",
      "[codecarbon INFO @ 15:29:35] 0.000138 kWh of electricity used since the beginning.\n"
     ]
    },
    {
     "name": "stdout",
     "output_type": "stream",
     "text": [
      "[1,  2270] loss: 0.595\n"
     ]
    },
    {
     "name": "stderr",
     "output_type": "stream",
     "text": [
      "/Users/jules/Projects/green-hackathon/env/lib/python3.9/site-packages/urllib3/__init__.py:34: NotOpenSSLWarning: urllib3 v2.0 only supports OpenSSL 1.1.1+, currently the 'ssl' module is compiled with 'LibreSSL 2.8.3'. See: https://github.com/urllib3/urllib3/issues/3020\n",
      "  warnings.warn(\n",
      "/Users/jules/Projects/green-hackathon/env/lib/python3.9/site-packages/urllib3/__init__.py:34: NotOpenSSLWarning: urllib3 v2.0 only supports OpenSSL 1.1.1+, currently the 'ssl' module is compiled with 'LibreSSL 2.8.3'. See: https://github.com/urllib3/urllib3/issues/3020\n",
      "  warnings.warn(\n",
      "/Users/jules/Projects/green-hackathon/env/lib/python3.9/site-packages/urllib3/__init__.py:34: NotOpenSSLWarning: urllib3 v2.0 only supports OpenSSL 1.1.1+, currently the 'ssl' module is compiled with 'LibreSSL 2.8.3'. See: https://github.com/urllib3/urllib3/issues/3020\n",
      "  warnings.warn(\n",
      "/Users/jules/Projects/green-hackathon/env/lib/python3.9/site-packages/urllib3/__init__.py:34: NotOpenSSLWarning: urllib3 v2.0 only supports OpenSSL 1.1.1+, currently the 'ssl' module is compiled with 'LibreSSL 2.8.3'. See: https://github.com/urllib3/urllib3/issues/3020\n",
      "  warnings.warn(\n",
      "/Users/jules/Projects/green-hackathon/env/lib/python3.9/site-packages/urllib3/__init__.py:34: NotOpenSSLWarning: urllib3 v2.0 only supports OpenSSL 1.1.1+, currently the 'ssl' module is compiled with 'LibreSSL 2.8.3'. See: https://github.com/urllib3/urllib3/issues/3020\n",
      "  warnings.warn(\n",
      "[codecarbon INFO @ 15:29:50] Energy consumed for RAM : 0.000100 kWh. RAM Power : 6.0 W\n",
      "[codecarbon INFO @ 15:29:50] Energy consumed for all CPUs : 0.000083 kWh. Total CPU Power : 5.0 W\n",
      "[codecarbon INFO @ 15:29:50] 0.000183 kWh of electricity used since the beginning.\n",
      "[codecarbon INFO @ 15:30:05] Energy consumed for RAM : 0.000125 kWh. RAM Power : 6.0 W\n",
      "[codecarbon INFO @ 15:30:05] Energy consumed for all CPUs : 0.000104 kWh. Total CPU Power : 5.0 W\n",
      "[codecarbon INFO @ 15:30:05] 0.000229 kWh of electricity used since the beginning.\n",
      "[codecarbon INFO @ 15:30:20] Energy consumed for RAM : 0.000150 kWh. RAM Power : 6.0 W\n",
      "[codecarbon INFO @ 15:30:20] Energy consumed for all CPUs : 0.000125 kWh. Total CPU Power : 5.0 W\n",
      "[codecarbon INFO @ 15:30:20] 0.000275 kWh of electricity used since the beginning.\n"
     ]
    },
    {
     "name": "stdout",
     "output_type": "stream",
     "text": [
      "[2,  2270] loss: 0.236\n"
     ]
    },
    {
     "name": "stderr",
     "output_type": "stream",
     "text": [
      "/Users/jules/Projects/green-hackathon/env/lib/python3.9/site-packages/urllib3/__init__.py:34: NotOpenSSLWarning: urllib3 v2.0 only supports OpenSSL 1.1.1+, currently the 'ssl' module is compiled with 'LibreSSL 2.8.3'. See: https://github.com/urllib3/urllib3/issues/3020\n",
      "  warnings.warn(\n",
      "/Users/jules/Projects/green-hackathon/env/lib/python3.9/site-packages/urllib3/__init__.py:34: NotOpenSSLWarning: urllib3 v2.0 only supports OpenSSL 1.1.1+, currently the 'ssl' module is compiled with 'LibreSSL 2.8.3'. See: https://github.com/urllib3/urllib3/issues/3020\n",
      "  warnings.warn(\n",
      "/Users/jules/Projects/green-hackathon/env/lib/python3.9/site-packages/urllib3/__init__.py:34: NotOpenSSLWarning: urllib3 v2.0 only supports OpenSSL 1.1.1+, currently the 'ssl' module is compiled with 'LibreSSL 2.8.3'. See: https://github.com/urllib3/urllib3/issues/3020\n",
      "  warnings.warn(\n",
      "/Users/jules/Projects/green-hackathon/env/lib/python3.9/site-packages/urllib3/__init__.py:34: NotOpenSSLWarning: urllib3 v2.0 only supports OpenSSL 1.1.1+, currently the 'ssl' module is compiled with 'LibreSSL 2.8.3'. See: https://github.com/urllib3/urllib3/issues/3020\n",
      "  warnings.warn(\n",
      "/Users/jules/Projects/green-hackathon/env/lib/python3.9/site-packages/urllib3/__init__.py:34: NotOpenSSLWarning: urllib3 v2.0 only supports OpenSSL 1.1.1+, currently the 'ssl' module is compiled with 'LibreSSL 2.8.3'. See: https://github.com/urllib3/urllib3/issues/3020\n",
      "  warnings.warn(\n",
      "[codecarbon INFO @ 15:30:35] Energy consumed for RAM : 0.000175 kWh. RAM Power : 6.0 W\n",
      "[codecarbon INFO @ 15:30:35] Energy consumed for all CPUs : 0.000146 kWh. Total CPU Power : 5.0 W\n",
      "[codecarbon INFO @ 15:30:35] 0.000321 kWh of electricity used since the beginning.\n",
      "[codecarbon INFO @ 15:30:50] Energy consumed for RAM : 0.000200 kWh. RAM Power : 6.0 W\n",
      "[codecarbon INFO @ 15:30:50] Energy consumed for all CPUs : 0.000167 kWh. Total CPU Power : 5.0 W\n",
      "[codecarbon INFO @ 15:30:50] 0.000367 kWh of electricity used since the beginning.\n",
      "[codecarbon INFO @ 15:31:05] Energy consumed for RAM : 0.000225 kWh. RAM Power : 6.0 W\n",
      "[codecarbon INFO @ 15:31:05] Energy consumed for all CPUs : 0.000188 kWh. Total CPU Power : 5.0 W\n",
      "[codecarbon INFO @ 15:31:05] 0.000413 kWh of electricity used since the beginning.\n"
     ]
    },
    {
     "name": "stdout",
     "output_type": "stream",
     "text": [
      "[3,  2270] loss: 0.115\n"
     ]
    },
    {
     "name": "stderr",
     "output_type": "stream",
     "text": [
      "/Users/jules/Projects/green-hackathon/env/lib/python3.9/site-packages/urllib3/__init__.py:34: NotOpenSSLWarning: urllib3 v2.0 only supports OpenSSL 1.1.1+, currently the 'ssl' module is compiled with 'LibreSSL 2.8.3'. See: https://github.com/urllib3/urllib3/issues/3020\n",
      "  warnings.warn(\n",
      "/Users/jules/Projects/green-hackathon/env/lib/python3.9/site-packages/urllib3/__init__.py:34: NotOpenSSLWarning: urllib3 v2.0 only supports OpenSSL 1.1.1+, currently the 'ssl' module is compiled with 'LibreSSL 2.8.3'. See: https://github.com/urllib3/urllib3/issues/3020\n",
      "  warnings.warn(\n",
      "/Users/jules/Projects/green-hackathon/env/lib/python3.9/site-packages/urllib3/__init__.py:34: NotOpenSSLWarning: urllib3 v2.0 only supports OpenSSL 1.1.1+, currently the 'ssl' module is compiled with 'LibreSSL 2.8.3'. See: https://github.com/urllib3/urllib3/issues/3020\n",
      "  warnings.warn(\n",
      "/Users/jules/Projects/green-hackathon/env/lib/python3.9/site-packages/urllib3/__init__.py:34: NotOpenSSLWarning: urllib3 v2.0 only supports OpenSSL 1.1.1+, currently the 'ssl' module is compiled with 'LibreSSL 2.8.3'. See: https://github.com/urllib3/urllib3/issues/3020\n",
      "  warnings.warn(\n",
      "/Users/jules/Projects/green-hackathon/env/lib/python3.9/site-packages/urllib3/__init__.py:34: NotOpenSSLWarning: urllib3 v2.0 only supports OpenSSL 1.1.1+, currently the 'ssl' module is compiled with 'LibreSSL 2.8.3'. See: https://github.com/urllib3/urllib3/issues/3020\n",
      "  warnings.warn(\n",
      "[codecarbon INFO @ 15:31:20] Energy consumed for RAM : 0.000250 kWh. RAM Power : 6.0 W\n",
      "[codecarbon INFO @ 15:31:20] Energy consumed for all CPUs : 0.000208 kWh. Total CPU Power : 5.0 W\n",
      "[codecarbon INFO @ 15:31:20] 0.000458 kWh of electricity used since the beginning.\n",
      "[codecarbon INFO @ 15:31:35] Energy consumed for RAM : 0.000275 kWh. RAM Power : 6.0 W\n",
      "[codecarbon INFO @ 15:31:35] Energy consumed for all CPUs : 0.000229 kWh. Total CPU Power : 5.0 W\n",
      "[codecarbon INFO @ 15:31:35] 0.000504 kWh of electricity used since the beginning.\n",
      "[codecarbon INFO @ 15:31:50] Energy consumed for RAM : 0.000300 kWh. RAM Power : 6.0 W\n",
      "[codecarbon INFO @ 15:31:50] Energy consumed for all CPUs : 0.000250 kWh. Total CPU Power : 5.0 W\n",
      "[codecarbon INFO @ 15:31:50] 0.000550 kWh of electricity used since the beginning.\n"
     ]
    },
    {
     "name": "stdout",
     "output_type": "stream",
     "text": [
      "[4,  2270] loss: 0.077\n"
     ]
    },
    {
     "name": "stderr",
     "output_type": "stream",
     "text": [
      "/Users/jules/Projects/green-hackathon/env/lib/python3.9/site-packages/urllib3/__init__.py:34: NotOpenSSLWarning: urllib3 v2.0 only supports OpenSSL 1.1.1+, currently the 'ssl' module is compiled with 'LibreSSL 2.8.3'. See: https://github.com/urllib3/urllib3/issues/3020\n",
      "  warnings.warn(\n",
      "/Users/jules/Projects/green-hackathon/env/lib/python3.9/site-packages/urllib3/__init__.py:34: NotOpenSSLWarning: urllib3 v2.0 only supports OpenSSL 1.1.1+, currently the 'ssl' module is compiled with 'LibreSSL 2.8.3'. See: https://github.com/urllib3/urllib3/issues/3020\n",
      "  warnings.warn(\n",
      "/Users/jules/Projects/green-hackathon/env/lib/python3.9/site-packages/urllib3/__init__.py:34: NotOpenSSLWarning: urllib3 v2.0 only supports OpenSSL 1.1.1+, currently the 'ssl' module is compiled with 'LibreSSL 2.8.3'. See: https://github.com/urllib3/urllib3/issues/3020\n",
      "  warnings.warn(\n",
      "/Users/jules/Projects/green-hackathon/env/lib/python3.9/site-packages/urllib3/__init__.py:34: NotOpenSSLWarning: urllib3 v2.0 only supports OpenSSL 1.1.1+, currently the 'ssl' module is compiled with 'LibreSSL 2.8.3'. See: https://github.com/urllib3/urllib3/issues/3020\n",
      "  warnings.warn(\n",
      "/Users/jules/Projects/green-hackathon/env/lib/python3.9/site-packages/urllib3/__init__.py:34: NotOpenSSLWarning: urllib3 v2.0 only supports OpenSSL 1.1.1+, currently the 'ssl' module is compiled with 'LibreSSL 2.8.3'. See: https://github.com/urllib3/urllib3/issues/3020\n",
      "  warnings.warn(\n",
      "[codecarbon INFO @ 15:32:05] Energy consumed for RAM : 0.000325 kWh. RAM Power : 6.0 W\n",
      "[codecarbon INFO @ 15:32:05] Energy consumed for all CPUs : 0.000271 kWh. Total CPU Power : 5.0 W\n",
      "[codecarbon INFO @ 15:32:05] 0.000596 kWh of electricity used since the beginning.\n",
      "[codecarbon INFO @ 15:32:20] Energy consumed for RAM : 0.000350 kWh. RAM Power : 6.0 W\n",
      "[codecarbon INFO @ 15:32:20] Energy consumed for all CPUs : 0.000292 kWh. Total CPU Power : 5.0 W\n",
      "[codecarbon INFO @ 15:32:20] 0.000642 kWh of electricity used since the beginning.\n",
      "[codecarbon INFO @ 15:32:35] Energy consumed for RAM : 0.000375 kWh. RAM Power : 6.0 W\n",
      "[codecarbon INFO @ 15:32:35] Energy consumed for all CPUs : 0.000313 kWh. Total CPU Power : 5.0 W\n",
      "[codecarbon INFO @ 15:32:35] 0.000688 kWh of electricity used since the beginning.\n"
     ]
    },
    {
     "name": "stdout",
     "output_type": "stream",
     "text": [
      "[5,  2270] loss: 0.059\n"
     ]
    },
    {
     "name": "stderr",
     "output_type": "stream",
     "text": [
      "/Users/jules/Projects/green-hackathon/env/lib/python3.9/site-packages/urllib3/__init__.py:34: NotOpenSSLWarning: urllib3 v2.0 only supports OpenSSL 1.1.1+, currently the 'ssl' module is compiled with 'LibreSSL 2.8.3'. See: https://github.com/urllib3/urllib3/issues/3020\n",
      "  warnings.warn(\n",
      "/Users/jules/Projects/green-hackathon/env/lib/python3.9/site-packages/urllib3/__init__.py:34: NotOpenSSLWarning: urllib3 v2.0 only supports OpenSSL 1.1.1+, currently the 'ssl' module is compiled with 'LibreSSL 2.8.3'. See: https://github.com/urllib3/urllib3/issues/3020\n",
      "  warnings.warn(\n",
      "/Users/jules/Projects/green-hackathon/env/lib/python3.9/site-packages/urllib3/__init__.py:34: NotOpenSSLWarning: urllib3 v2.0 only supports OpenSSL 1.1.1+, currently the 'ssl' module is compiled with 'LibreSSL 2.8.3'. See: https://github.com/urllib3/urllib3/issues/3020\n",
      "  warnings.warn(\n",
      "/Users/jules/Projects/green-hackathon/env/lib/python3.9/site-packages/urllib3/__init__.py:34: NotOpenSSLWarning: urllib3 v2.0 only supports OpenSSL 1.1.1+, currently the 'ssl' module is compiled with 'LibreSSL 2.8.3'. See: https://github.com/urllib3/urllib3/issues/3020\n",
      "  warnings.warn(\n",
      "/Users/jules/Projects/green-hackathon/env/lib/python3.9/site-packages/urllib3/__init__.py:34: NotOpenSSLWarning: urllib3 v2.0 only supports OpenSSL 1.1.1+, currently the 'ssl' module is compiled with 'LibreSSL 2.8.3'. See: https://github.com/urllib3/urllib3/issues/3020\n",
      "  warnings.warn(\n",
      "[codecarbon INFO @ 15:32:50] Energy consumed for RAM : 0.000400 kWh. RAM Power : 6.0 W\n",
      "[codecarbon INFO @ 15:32:50] Energy consumed for all CPUs : 0.000333 kWh. Total CPU Power : 5.0 W\n",
      "[codecarbon INFO @ 15:32:50] 0.000733 kWh of electricity used since the beginning.\n",
      "[codecarbon INFO @ 15:33:05] Energy consumed for RAM : 0.000425 kWh. RAM Power : 6.0 W\n",
      "[codecarbon INFO @ 15:33:05] Energy consumed for all CPUs : 0.000354 kWh. Total CPU Power : 5.0 W\n",
      "[codecarbon INFO @ 15:33:05] 0.000779 kWh of electricity used since the beginning.\n",
      "[codecarbon INFO @ 15:33:20] Energy consumed for RAM : 0.000450 kWh. RAM Power : 6.0 W\n",
      "[codecarbon INFO @ 15:33:20] Energy consumed for all CPUs : 0.000375 kWh. Total CPU Power : 5.0 W\n",
      "[codecarbon INFO @ 15:33:20] 0.000825 kWh of electricity used since the beginning.\n"
     ]
    },
    {
     "name": "stdout",
     "output_type": "stream",
     "text": [
      "[6,  2270] loss: 0.047\n"
     ]
    },
    {
     "name": "stderr",
     "output_type": "stream",
     "text": [
      "/Users/jules/Projects/green-hackathon/env/lib/python3.9/site-packages/urllib3/__init__.py:34: NotOpenSSLWarning: urllib3 v2.0 only supports OpenSSL 1.1.1+, currently the 'ssl' module is compiled with 'LibreSSL 2.8.3'. See: https://github.com/urllib3/urllib3/issues/3020\n",
      "  warnings.warn(\n",
      "/Users/jules/Projects/green-hackathon/env/lib/python3.9/site-packages/urllib3/__init__.py:34: NotOpenSSLWarning: urllib3 v2.0 only supports OpenSSL 1.1.1+, currently the 'ssl' module is compiled with 'LibreSSL 2.8.3'. See: https://github.com/urllib3/urllib3/issues/3020\n",
      "  warnings.warn(\n",
      "/Users/jules/Projects/green-hackathon/env/lib/python3.9/site-packages/urllib3/__init__.py:34: NotOpenSSLWarning: urllib3 v2.0 only supports OpenSSL 1.1.1+, currently the 'ssl' module is compiled with 'LibreSSL 2.8.3'. See: https://github.com/urllib3/urllib3/issues/3020\n",
      "  warnings.warn(\n",
      "/Users/jules/Projects/green-hackathon/env/lib/python3.9/site-packages/urllib3/__init__.py:34: NotOpenSSLWarning: urllib3 v2.0 only supports OpenSSL 1.1.1+, currently the 'ssl' module is compiled with 'LibreSSL 2.8.3'. See: https://github.com/urllib3/urllib3/issues/3020\n",
      "  warnings.warn(\n",
      "/Users/jules/Projects/green-hackathon/env/lib/python3.9/site-packages/urllib3/__init__.py:34: NotOpenSSLWarning: urllib3 v2.0 only supports OpenSSL 1.1.1+, currently the 'ssl' module is compiled with 'LibreSSL 2.8.3'. See: https://github.com/urllib3/urllib3/issues/3020\n",
      "  warnings.warn(\n",
      "[codecarbon INFO @ 15:33:35] Energy consumed for RAM : 0.000475 kWh. RAM Power : 6.0 W\n",
      "[codecarbon INFO @ 15:33:35] Energy consumed for all CPUs : 0.000396 kWh. Total CPU Power : 5.0 W\n",
      "[codecarbon INFO @ 15:33:35] 0.000871 kWh of electricity used since the beginning.\n",
      "[codecarbon INFO @ 15:33:50] Energy consumed for RAM : 0.000500 kWh. RAM Power : 6.0 W\n",
      "[codecarbon INFO @ 15:33:50] Energy consumed for all CPUs : 0.000417 kWh. Total CPU Power : 5.0 W\n",
      "[codecarbon INFO @ 15:33:50] 0.000917 kWh of electricity used since the beginning.\n",
      "[codecarbon INFO @ 15:34:05] Energy consumed for RAM : 0.000525 kWh. RAM Power : 6.0 W\n",
      "[codecarbon INFO @ 15:34:05] Energy consumed for all CPUs : 0.000438 kWh. Total CPU Power : 5.0 W\n",
      "[codecarbon INFO @ 15:34:05] 0.000963 kWh of electricity used since the beginning.\n"
     ]
    },
    {
     "name": "stdout",
     "output_type": "stream",
     "text": [
      "[7,  2270] loss: 0.038\n"
     ]
    },
    {
     "name": "stderr",
     "output_type": "stream",
     "text": [
      "/Users/jules/Projects/green-hackathon/env/lib/python3.9/site-packages/urllib3/__init__.py:34: NotOpenSSLWarning: urllib3 v2.0 only supports OpenSSL 1.1.1+, currently the 'ssl' module is compiled with 'LibreSSL 2.8.3'. See: https://github.com/urllib3/urllib3/issues/3020\n",
      "  warnings.warn(\n",
      "/Users/jules/Projects/green-hackathon/env/lib/python3.9/site-packages/urllib3/__init__.py:34: NotOpenSSLWarning: urllib3 v2.0 only supports OpenSSL 1.1.1+, currently the 'ssl' module is compiled with 'LibreSSL 2.8.3'. See: https://github.com/urllib3/urllib3/issues/3020\n",
      "  warnings.warn(\n",
      "/Users/jules/Projects/green-hackathon/env/lib/python3.9/site-packages/urllib3/__init__.py:34: NotOpenSSLWarning: urllib3 v2.0 only supports OpenSSL 1.1.1+, currently the 'ssl' module is compiled with 'LibreSSL 2.8.3'. See: https://github.com/urllib3/urllib3/issues/3020\n",
      "  warnings.warn(\n",
      "/Users/jules/Projects/green-hackathon/env/lib/python3.9/site-packages/urllib3/__init__.py:34: NotOpenSSLWarning: urllib3 v2.0 only supports OpenSSL 1.1.1+, currently the 'ssl' module is compiled with 'LibreSSL 2.8.3'. See: https://github.com/urllib3/urllib3/issues/3020\n",
      "  warnings.warn(\n",
      "[codecarbon INFO @ 15:34:20] Energy consumed for RAM : 0.000550 kWh. RAM Power : 6.0 W\n",
      "[codecarbon INFO @ 15:34:20] Energy consumed for all CPUs : 0.000458 kWh. Total CPU Power : 5.0 W\n",
      "[codecarbon INFO @ 15:34:20] 0.001008 kWh of electricity used since the beginning.\n",
      "/Users/jules/Projects/green-hackathon/env/lib/python3.9/site-packages/urllib3/__init__.py:34: NotOpenSSLWarning: urllib3 v2.0 only supports OpenSSL 1.1.1+, currently the 'ssl' module is compiled with 'LibreSSL 2.8.3'. See: https://github.com/urllib3/urllib3/issues/3020\n",
      "  warnings.warn(\n",
      "[codecarbon INFO @ 15:34:35] Energy consumed for RAM : 0.000575 kWh. RAM Power : 6.0 W\n",
      "[codecarbon INFO @ 15:34:35] Energy consumed for all CPUs : 0.000479 kWh. Total CPU Power : 5.0 W\n",
      "[codecarbon INFO @ 15:34:35] 0.001054 kWh of electricity used since the beginning.\n",
      "[codecarbon INFO @ 15:34:50] Energy consumed for RAM : 0.000600 kWh. RAM Power : 6.0 W\n",
      "[codecarbon INFO @ 15:34:50] Energy consumed for all CPUs : 0.000500 kWh. Total CPU Power : 5.0 W\n",
      "[codecarbon INFO @ 15:34:50] 0.001100 kWh of electricity used since the beginning.\n"
     ]
    },
    {
     "name": "stdout",
     "output_type": "stream",
     "text": [
      "[8,  2270] loss: 0.033\n"
     ]
    },
    {
     "name": "stderr",
     "output_type": "stream",
     "text": [
      "/Users/jules/Projects/green-hackathon/env/lib/python3.9/site-packages/urllib3/__init__.py:34: NotOpenSSLWarning: urllib3 v2.0 only supports OpenSSL 1.1.1+, currently the 'ssl' module is compiled with 'LibreSSL 2.8.3'. See: https://github.com/urllib3/urllib3/issues/3020\n",
      "  warnings.warn(\n",
      "/Users/jules/Projects/green-hackathon/env/lib/python3.9/site-packages/urllib3/__init__.py:34: NotOpenSSLWarning: urllib3 v2.0 only supports OpenSSL 1.1.1+, currently the 'ssl' module is compiled with 'LibreSSL 2.8.3'. See: https://github.com/urllib3/urllib3/issues/3020\n",
      "  warnings.warn(\n",
      "/Users/jules/Projects/green-hackathon/env/lib/python3.9/site-packages/urllib3/__init__.py:34: NotOpenSSLWarning: urllib3 v2.0 only supports OpenSSL 1.1.1+, currently the 'ssl' module is compiled with 'LibreSSL 2.8.3'. See: https://github.com/urllib3/urllib3/issues/3020\n",
      "  warnings.warn(\n",
      "[codecarbon INFO @ 15:35:05] Energy consumed for RAM : 0.000625 kWh. RAM Power : 6.0 W\n",
      "[codecarbon INFO @ 15:35:05] Energy consumed for all CPUs : 0.000521 kWh. Total CPU Power : 5.0 W\n",
      "[codecarbon INFO @ 15:35:05] 0.001146 kWh of electricity used since the beginning.\n",
      "/Users/jules/Projects/green-hackathon/env/lib/python3.9/site-packages/urllib3/__init__.py:34: NotOpenSSLWarning: urllib3 v2.0 only supports OpenSSL 1.1.1+, currently the 'ssl' module is compiled with 'LibreSSL 2.8.3'. See: https://github.com/urllib3/urllib3/issues/3020\n",
      "  warnings.warn(\n",
      "/Users/jules/Projects/green-hackathon/env/lib/python3.9/site-packages/urllib3/__init__.py:34: NotOpenSSLWarning: urllib3 v2.0 only supports OpenSSL 1.1.1+, currently the 'ssl' module is compiled with 'LibreSSL 2.8.3'. See: https://github.com/urllib3/urllib3/issues/3020\n",
      "  warnings.warn(\n",
      "[codecarbon INFO @ 15:35:20] Energy consumed for RAM : 0.000650 kWh. RAM Power : 6.0 W\n",
      "[codecarbon INFO @ 15:35:20] Energy consumed for all CPUs : 0.000542 kWh. Total CPU Power : 5.0 W\n",
      "[codecarbon INFO @ 15:35:20] 0.001192 kWh of electricity used since the beginning.\n",
      "[codecarbon INFO @ 15:35:35] Energy consumed for RAM : 0.000675 kWh. RAM Power : 6.0 W\n",
      "[codecarbon INFO @ 15:35:35] Energy consumed for all CPUs : 0.000563 kWh. Total CPU Power : 5.0 W\n",
      "[codecarbon INFO @ 15:35:35] 0.001238 kWh of electricity used since the beginning.\n"
     ]
    },
    {
     "name": "stdout",
     "output_type": "stream",
     "text": [
      "[9,  2270] loss: 0.027\n"
     ]
    },
    {
     "name": "stderr",
     "output_type": "stream",
     "text": [
      "/Users/jules/Projects/green-hackathon/env/lib/python3.9/site-packages/urllib3/__init__.py:34: NotOpenSSLWarning: urllib3 v2.0 only supports OpenSSL 1.1.1+, currently the 'ssl' module is compiled with 'LibreSSL 2.8.3'. See: https://github.com/urllib3/urllib3/issues/3020\n",
      "  warnings.warn(\n",
      "/Users/jules/Projects/green-hackathon/env/lib/python3.9/site-packages/urllib3/__init__.py:34: NotOpenSSLWarning: urllib3 v2.0 only supports OpenSSL 1.1.1+, currently the 'ssl' module is compiled with 'LibreSSL 2.8.3'. See: https://github.com/urllib3/urllib3/issues/3020\n",
      "  warnings.warn(\n",
      "/Users/jules/Projects/green-hackathon/env/lib/python3.9/site-packages/urllib3/__init__.py:34: NotOpenSSLWarning: urllib3 v2.0 only supports OpenSSL 1.1.1+, currently the 'ssl' module is compiled with 'LibreSSL 2.8.3'. See: https://github.com/urllib3/urllib3/issues/3020\n",
      "  warnings.warn(\n",
      "[codecarbon INFO @ 15:35:50] Energy consumed for RAM : 0.000700 kWh. RAM Power : 6.0 W\n",
      "[codecarbon INFO @ 15:35:50] Energy consumed for all CPUs : 0.000583 kWh. Total CPU Power : 5.0 W\n",
      "[codecarbon INFO @ 15:35:50] 0.001283 kWh of electricity used since the beginning.\n",
      "/Users/jules/Projects/green-hackathon/env/lib/python3.9/site-packages/urllib3/__init__.py:34: NotOpenSSLWarning: urllib3 v2.0 only supports OpenSSL 1.1.1+, currently the 'ssl' module is compiled with 'LibreSSL 2.8.3'. See: https://github.com/urllib3/urllib3/issues/3020\n",
      "  warnings.warn(\n",
      "/Users/jules/Projects/green-hackathon/env/lib/python3.9/site-packages/urllib3/__init__.py:34: NotOpenSSLWarning: urllib3 v2.0 only supports OpenSSL 1.1.1+, currently the 'ssl' module is compiled with 'LibreSSL 2.8.3'. See: https://github.com/urllib3/urllib3/issues/3020\n",
      "  warnings.warn(\n",
      "[codecarbon INFO @ 15:36:05] Energy consumed for RAM : 0.000725 kWh. RAM Power : 6.0 W\n",
      "[codecarbon INFO @ 15:36:05] Energy consumed for all CPUs : 0.000604 kWh. Total CPU Power : 5.0 W\n",
      "[codecarbon INFO @ 15:36:05] 0.001329 kWh of electricity used since the beginning.\n",
      "[codecarbon INFO @ 15:36:20] Energy consumed for RAM : 0.000750 kWh. RAM Power : 6.0 W\n",
      "[codecarbon INFO @ 15:36:20] Energy consumed for all CPUs : 0.000625 kWh. Total CPU Power : 5.0 W\n",
      "[codecarbon INFO @ 15:36:20] 0.001375 kWh of electricity used since the beginning.\n"
     ]
    },
    {
     "name": "stdout",
     "output_type": "stream",
     "text": [
      "[10,  2270] loss: 0.024\n"
     ]
    },
    {
     "name": "stderr",
     "output_type": "stream",
     "text": [
      "/Users/jules/Projects/green-hackathon/env/lib/python3.9/site-packages/urllib3/__init__.py:34: NotOpenSSLWarning: urllib3 v2.0 only supports OpenSSL 1.1.1+, currently the 'ssl' module is compiled with 'LibreSSL 2.8.3'. See: https://github.com/urllib3/urllib3/issues/3020\n",
      "  warnings.warn(\n",
      "[codecarbon INFO @ 15:36:35] Energy consumed for RAM : 0.000775 kWh. RAM Power : 6.0 W\n",
      "[codecarbon INFO @ 15:36:35] Energy consumed for all CPUs : 0.000646 kWh. Total CPU Power : 5.0 W\n",
      "[codecarbon INFO @ 15:36:35] 0.001421 kWh of electricity used since the beginning.\n",
      "/Users/jules/Projects/green-hackathon/env/lib/python3.9/site-packages/urllib3/__init__.py:34: NotOpenSSLWarning: urllib3 v2.0 only supports OpenSSL 1.1.1+, currently the 'ssl' module is compiled with 'LibreSSL 2.8.3'. See: https://github.com/urllib3/urllib3/issues/3020\n",
      "  warnings.warn(\n",
      "/Users/jules/Projects/green-hackathon/env/lib/python3.9/site-packages/urllib3/__init__.py:34: NotOpenSSLWarning: urllib3 v2.0 only supports OpenSSL 1.1.1+, currently the 'ssl' module is compiled with 'LibreSSL 2.8.3'. See: https://github.com/urllib3/urllib3/issues/3020\n",
      "  warnings.warn(\n",
      "/Users/jules/Projects/green-hackathon/env/lib/python3.9/site-packages/urllib3/__init__.py:34: NotOpenSSLWarning: urllib3 v2.0 only supports OpenSSL 1.1.1+, currently the 'ssl' module is compiled with 'LibreSSL 2.8.3'. See: https://github.com/urllib3/urllib3/issues/3020\n",
      "  warnings.warn(\n",
      "/Users/jules/Projects/green-hackathon/env/lib/python3.9/site-packages/urllib3/__init__.py:34: NotOpenSSLWarning: urllib3 v2.0 only supports OpenSSL 1.1.1+, currently the 'ssl' module is compiled with 'LibreSSL 2.8.3'. See: https://github.com/urllib3/urllib3/issues/3020\n",
      "  warnings.warn(\n",
      "[codecarbon INFO @ 15:36:50] Energy consumed for RAM : 0.000800 kWh. RAM Power : 6.0 W\n",
      "[codecarbon INFO @ 15:36:50] Energy consumed for all CPUs : 0.000667 kWh. Total CPU Power : 5.0 W\n",
      "[codecarbon INFO @ 15:36:50] 0.001467 kWh of electricity used since the beginning.\n",
      "[codecarbon INFO @ 15:37:05] Energy consumed for RAM : 0.000825 kWh. RAM Power : 6.0 W\n",
      "[codecarbon INFO @ 15:37:05] Energy consumed for all CPUs : 0.000688 kWh. Total CPU Power : 5.0 W\n",
      "[codecarbon INFO @ 15:37:05] 0.001513 kWh of electricity used since the beginning.\n"
     ]
    },
    {
     "name": "stdout",
     "output_type": "stream",
     "text": [
      "[11,  2270] loss: 0.022\n"
     ]
    },
    {
     "name": "stderr",
     "output_type": "stream",
     "text": [
      "[codecarbon INFO @ 15:37:20] Energy consumed for RAM : 0.000850 kWh. RAM Power : 6.0 W\n",
      "[codecarbon INFO @ 15:37:20] Energy consumed for all CPUs : 0.000708 kWh. Total CPU Power : 5.0 W\n",
      "[codecarbon INFO @ 15:37:20] 0.001559 kWh of electricity used since the beginning.\n",
      "/Users/jules/Projects/green-hackathon/env/lib/python3.9/site-packages/urllib3/__init__.py:34: NotOpenSSLWarning: urllib3 v2.0 only supports OpenSSL 1.1.1+, currently the 'ssl' module is compiled with 'LibreSSL 2.8.3'. See: https://github.com/urllib3/urllib3/issues/3020\n",
      "  warnings.warn(\n",
      "/Users/jules/Projects/green-hackathon/env/lib/python3.9/site-packages/urllib3/__init__.py:34: NotOpenSSLWarning: urllib3 v2.0 only supports OpenSSL 1.1.1+, currently the 'ssl' module is compiled with 'LibreSSL 2.8.3'. See: https://github.com/urllib3/urllib3/issues/3020\n",
      "  warnings.warn(\n",
      "/Users/jules/Projects/green-hackathon/env/lib/python3.9/site-packages/urllib3/__init__.py:34: NotOpenSSLWarning: urllib3 v2.0 only supports OpenSSL 1.1.1+, currently the 'ssl' module is compiled with 'LibreSSL 2.8.3'. See: https://github.com/urllib3/urllib3/issues/3020\n",
      "  warnings.warn(\n",
      "/Users/jules/Projects/green-hackathon/env/lib/python3.9/site-packages/urllib3/__init__.py:34: NotOpenSSLWarning: urllib3 v2.0 only supports OpenSSL 1.1.1+, currently the 'ssl' module is compiled with 'LibreSSL 2.8.3'. See: https://github.com/urllib3/urllib3/issues/3020\n",
      "  warnings.warn(\n",
      "/Users/jules/Projects/green-hackathon/env/lib/python3.9/site-packages/urllib3/__init__.py:34: NotOpenSSLWarning: urllib3 v2.0 only supports OpenSSL 1.1.1+, currently the 'ssl' module is compiled with 'LibreSSL 2.8.3'. See: https://github.com/urllib3/urllib3/issues/3020\n",
      "  warnings.warn(\n",
      "[codecarbon INFO @ 15:37:35] Energy consumed for RAM : 0.000875 kWh. RAM Power : 6.0 W\n",
      "[codecarbon INFO @ 15:37:35] Energy consumed for all CPUs : 0.000729 kWh. Total CPU Power : 5.0 W\n",
      "[codecarbon INFO @ 15:37:35] 0.001604 kWh of electricity used since the beginning.\n",
      "[codecarbon INFO @ 15:37:50] Energy consumed for RAM : 0.000900 kWh. RAM Power : 6.0 W\n",
      "[codecarbon INFO @ 15:37:50] Energy consumed for all CPUs : 0.000750 kWh. Total CPU Power : 5.0 W\n",
      "[codecarbon INFO @ 15:37:50] 0.001650 kWh of electricity used since the beginning.\n",
      "[codecarbon INFO @ 15:38:05] Energy consumed for RAM : 0.000925 kWh. RAM Power : 6.0 W\n",
      "[codecarbon INFO @ 15:38:05] Energy consumed for all CPUs : 0.000771 kWh. Total CPU Power : 5.0 W\n",
      "[codecarbon INFO @ 15:38:05] 0.001696 kWh of electricity used since the beginning.\n"
     ]
    },
    {
     "name": "stdout",
     "output_type": "stream",
     "text": [
      "[12,  2270] loss: 0.019\n"
     ]
    },
    {
     "name": "stderr",
     "output_type": "stream",
     "text": [
      "/Users/jules/Projects/green-hackathon/env/lib/python3.9/site-packages/urllib3/__init__.py:34: NotOpenSSLWarning: urllib3 v2.0 only supports OpenSSL 1.1.1+, currently the 'ssl' module is compiled with 'LibreSSL 2.8.3'. See: https://github.com/urllib3/urllib3/issues/3020\n",
      "  warnings.warn(\n",
      "/Users/jules/Projects/green-hackathon/env/lib/python3.9/site-packages/urllib3/__init__.py:34: NotOpenSSLWarning: urllib3 v2.0 only supports OpenSSL 1.1.1+, currently the 'ssl' module is compiled with 'LibreSSL 2.8.3'. See: https://github.com/urllib3/urllib3/issues/3020\n",
      "  warnings.warn(\n",
      "/Users/jules/Projects/green-hackathon/env/lib/python3.9/site-packages/urllib3/__init__.py:34: NotOpenSSLWarning: urllib3 v2.0 only supports OpenSSL 1.1.1+, currently the 'ssl' module is compiled with 'LibreSSL 2.8.3'. See: https://github.com/urllib3/urllib3/issues/3020\n",
      "  warnings.warn(\n",
      "/Users/jules/Projects/green-hackathon/env/lib/python3.9/site-packages/urllib3/__init__.py:34: NotOpenSSLWarning: urllib3 v2.0 only supports OpenSSL 1.1.1+, currently the 'ssl' module is compiled with 'LibreSSL 2.8.3'. See: https://github.com/urllib3/urllib3/issues/3020\n",
      "  warnings.warn(\n",
      "/Users/jules/Projects/green-hackathon/env/lib/python3.9/site-packages/urllib3/__init__.py:34: NotOpenSSLWarning: urllib3 v2.0 only supports OpenSSL 1.1.1+, currently the 'ssl' module is compiled with 'LibreSSL 2.8.3'. See: https://github.com/urllib3/urllib3/issues/3020\n",
      "  warnings.warn(\n",
      "[codecarbon INFO @ 15:38:20] Energy consumed for RAM : 0.000950 kWh. RAM Power : 6.0 W\n",
      "[codecarbon INFO @ 15:38:20] Energy consumed for all CPUs : 0.000792 kWh. Total CPU Power : 5.0 W\n",
      "[codecarbon INFO @ 15:38:20] 0.001742 kWh of electricity used since the beginning.\n",
      "[codecarbon INFO @ 15:38:35] Energy consumed for RAM : 0.000975 kWh. RAM Power : 6.0 W\n",
      "[codecarbon INFO @ 15:38:35] Energy consumed for all CPUs : 0.000813 kWh. Total CPU Power : 5.0 W\n",
      "[codecarbon INFO @ 15:38:35] 0.001788 kWh of electricity used since the beginning.\n",
      "[codecarbon INFO @ 15:38:50] Energy consumed for RAM : 0.001000 kWh. RAM Power : 6.0 W\n",
      "[codecarbon INFO @ 15:38:50] Energy consumed for all CPUs : 0.000833 kWh. Total CPU Power : 5.0 W\n",
      "[codecarbon INFO @ 15:38:50] 0.001834 kWh of electricity used since the beginning.\n"
     ]
    },
    {
     "name": "stdout",
     "output_type": "stream",
     "text": [
      "[13,  2270] loss: 0.017\n"
     ]
    },
    {
     "name": "stderr",
     "output_type": "stream",
     "text": [
      "/Users/jules/Projects/green-hackathon/env/lib/python3.9/site-packages/urllib3/__init__.py:34: NotOpenSSLWarning: urllib3 v2.0 only supports OpenSSL 1.1.1+, currently the 'ssl' module is compiled with 'LibreSSL 2.8.3'. See: https://github.com/urllib3/urllib3/issues/3020\n",
      "  warnings.warn(\n",
      "/Users/jules/Projects/green-hackathon/env/lib/python3.9/site-packages/urllib3/__init__.py:34: NotOpenSSLWarning: urllib3 v2.0 only supports OpenSSL 1.1.1+, currently the 'ssl' module is compiled with 'LibreSSL 2.8.3'. See: https://github.com/urllib3/urllib3/issues/3020\n",
      "  warnings.warn(\n",
      "/Users/jules/Projects/green-hackathon/env/lib/python3.9/site-packages/urllib3/__init__.py:34: NotOpenSSLWarning: urllib3 v2.0 only supports OpenSSL 1.1.1+, currently the 'ssl' module is compiled with 'LibreSSL 2.8.3'. See: https://github.com/urllib3/urllib3/issues/3020\n",
      "  warnings.warn(\n",
      "/Users/jules/Projects/green-hackathon/env/lib/python3.9/site-packages/urllib3/__init__.py:34: NotOpenSSLWarning: urllib3 v2.0 only supports OpenSSL 1.1.1+, currently the 'ssl' module is compiled with 'LibreSSL 2.8.3'. See: https://github.com/urllib3/urllib3/issues/3020\n",
      "  warnings.warn(\n",
      "/Users/jules/Projects/green-hackathon/env/lib/python3.9/site-packages/urllib3/__init__.py:34: NotOpenSSLWarning: urllib3 v2.0 only supports OpenSSL 1.1.1+, currently the 'ssl' module is compiled with 'LibreSSL 2.8.3'. See: https://github.com/urllib3/urllib3/issues/3020\n",
      "  warnings.warn(\n",
      "[codecarbon INFO @ 15:39:05] Energy consumed for RAM : 0.001025 kWh. RAM Power : 6.0 W\n",
      "[codecarbon INFO @ 15:39:05] Energy consumed for all CPUs : 0.000854 kWh. Total CPU Power : 5.0 W\n",
      "[codecarbon INFO @ 15:39:05] 0.001879 kWh of electricity used since the beginning.\n",
      "[codecarbon INFO @ 15:39:20] Energy consumed for RAM : 0.001050 kWh. RAM Power : 6.0 W\n",
      "[codecarbon INFO @ 15:39:20] Energy consumed for all CPUs : 0.000875 kWh. Total CPU Power : 5.0 W\n",
      "[codecarbon INFO @ 15:39:20] 0.001925 kWh of electricity used since the beginning.\n",
      "[codecarbon INFO @ 15:39:35] Energy consumed for RAM : 0.001075 kWh. RAM Power : 6.0 W\n",
      "[codecarbon INFO @ 15:39:35] Energy consumed for all CPUs : 0.000896 kWh. Total CPU Power : 5.0 W\n",
      "[codecarbon INFO @ 15:39:35] 0.001971 kWh of electricity used since the beginning.\n"
     ]
    },
    {
     "name": "stdout",
     "output_type": "stream",
     "text": [
      "[14,  2270] loss: 0.015\n"
     ]
    },
    {
     "name": "stderr",
     "output_type": "stream",
     "text": [
      "/Users/jules/Projects/green-hackathon/env/lib/python3.9/site-packages/urllib3/__init__.py:34: NotOpenSSLWarning: urllib3 v2.0 only supports OpenSSL 1.1.1+, currently the 'ssl' module is compiled with 'LibreSSL 2.8.3'. See: https://github.com/urllib3/urllib3/issues/3020\n",
      "  warnings.warn(\n",
      "/Users/jules/Projects/green-hackathon/env/lib/python3.9/site-packages/urllib3/__init__.py:34: NotOpenSSLWarning: urllib3 v2.0 only supports OpenSSL 1.1.1+, currently the 'ssl' module is compiled with 'LibreSSL 2.8.3'. See: https://github.com/urllib3/urllib3/issues/3020\n",
      "  warnings.warn(\n",
      "/Users/jules/Projects/green-hackathon/env/lib/python3.9/site-packages/urllib3/__init__.py:34: NotOpenSSLWarning: urllib3 v2.0 only supports OpenSSL 1.1.1+, currently the 'ssl' module is compiled with 'LibreSSL 2.8.3'. See: https://github.com/urllib3/urllib3/issues/3020\n",
      "  warnings.warn(\n",
      "/Users/jules/Projects/green-hackathon/env/lib/python3.9/site-packages/urllib3/__init__.py:34: NotOpenSSLWarning: urllib3 v2.0 only supports OpenSSL 1.1.1+, currently the 'ssl' module is compiled with 'LibreSSL 2.8.3'. See: https://github.com/urllib3/urllib3/issues/3020\n",
      "  warnings.warn(\n",
      "/Users/jules/Projects/green-hackathon/env/lib/python3.9/site-packages/urllib3/__init__.py:34: NotOpenSSLWarning: urllib3 v2.0 only supports OpenSSL 1.1.1+, currently the 'ssl' module is compiled with 'LibreSSL 2.8.3'. See: https://github.com/urllib3/urllib3/issues/3020\n",
      "  warnings.warn(\n",
      "[codecarbon INFO @ 15:39:50] Energy consumed for RAM : 0.001100 kWh. RAM Power : 6.0 W\n",
      "[codecarbon INFO @ 15:39:50] Energy consumed for all CPUs : 0.000917 kWh. Total CPU Power : 5.0 W\n",
      "[codecarbon INFO @ 15:39:50] 0.002017 kWh of electricity used since the beginning.\n",
      "[codecarbon INFO @ 15:40:05] Energy consumed for RAM : 0.001125 kWh. RAM Power : 6.0 W\n",
      "[codecarbon INFO @ 15:40:05] Energy consumed for all CPUs : 0.000938 kWh. Total CPU Power : 5.0 W\n",
      "[codecarbon INFO @ 15:40:05] 0.002063 kWh of electricity used since the beginning.\n",
      "[codecarbon INFO @ 15:40:20] Energy consumed for RAM : 0.001150 kWh. RAM Power : 6.0 W\n",
      "[codecarbon INFO @ 15:40:20] Energy consumed for all CPUs : 0.000959 kWh. Total CPU Power : 5.0 W\n",
      "[codecarbon INFO @ 15:40:20] 0.002109 kWh of electricity used since the beginning.\n"
     ]
    },
    {
     "name": "stdout",
     "output_type": "stream",
     "text": [
      "[15,  2270] loss: 0.014\n"
     ]
    },
    {
     "name": "stderr",
     "output_type": "stream",
     "text": [
      "/Users/jules/Projects/green-hackathon/env/lib/python3.9/site-packages/urllib3/__init__.py:34: NotOpenSSLWarning: urllib3 v2.0 only supports OpenSSL 1.1.1+, currently the 'ssl' module is compiled with 'LibreSSL 2.8.3'. See: https://github.com/urllib3/urllib3/issues/3020\n",
      "  warnings.warn(\n",
      "/Users/jules/Projects/green-hackathon/env/lib/python3.9/site-packages/urllib3/__init__.py:34: NotOpenSSLWarning: urllib3 v2.0 only supports OpenSSL 1.1.1+, currently the 'ssl' module is compiled with 'LibreSSL 2.8.3'. See: https://github.com/urllib3/urllib3/issues/3020\n",
      "  warnings.warn(\n",
      "/Users/jules/Projects/green-hackathon/env/lib/python3.9/site-packages/urllib3/__init__.py:34: NotOpenSSLWarning: urllib3 v2.0 only supports OpenSSL 1.1.1+, currently the 'ssl' module is compiled with 'LibreSSL 2.8.3'. See: https://github.com/urllib3/urllib3/issues/3020\n",
      "  warnings.warn(\n",
      "/Users/jules/Projects/green-hackathon/env/lib/python3.9/site-packages/urllib3/__init__.py:34: NotOpenSSLWarning: urllib3 v2.0 only supports OpenSSL 1.1.1+, currently the 'ssl' module is compiled with 'LibreSSL 2.8.3'. See: https://github.com/urllib3/urllib3/issues/3020\n",
      "  warnings.warn(\n",
      "/Users/jules/Projects/green-hackathon/env/lib/python3.9/site-packages/urllib3/__init__.py:34: NotOpenSSLWarning: urllib3 v2.0 only supports OpenSSL 1.1.1+, currently the 'ssl' module is compiled with 'LibreSSL 2.8.3'. See: https://github.com/urllib3/urllib3/issues/3020\n",
      "  warnings.warn(\n",
      "[codecarbon INFO @ 15:40:35] Energy consumed for RAM : 0.001175 kWh. RAM Power : 6.0 W\n",
      "[codecarbon INFO @ 15:40:35] Energy consumed for all CPUs : 0.000979 kWh. Total CPU Power : 5.0 W\n",
      "[codecarbon INFO @ 15:40:35] 0.002154 kWh of electricity used since the beginning.\n",
      "[codecarbon INFO @ 15:40:50] Energy consumed for RAM : 0.001200 kWh. RAM Power : 6.0 W\n",
      "[codecarbon INFO @ 15:40:50] Energy consumed for all CPUs : 0.001000 kWh. Total CPU Power : 5.0 W\n",
      "[codecarbon INFO @ 15:40:50] 0.002200 kWh of electricity used since the beginning.\n",
      "[codecarbon INFO @ 15:41:05] Energy consumed for RAM : 0.001225 kWh. RAM Power : 6.0 W\n",
      "[codecarbon INFO @ 15:41:05] Energy consumed for all CPUs : 0.001021 kWh. Total CPU Power : 5.0 W\n",
      "[codecarbon INFO @ 15:41:05] 0.002246 kWh of electricity used since the beginning.\n"
     ]
    },
    {
     "name": "stdout",
     "output_type": "stream",
     "text": [
      "[16,  2270] loss: 0.013\n"
     ]
    },
    {
     "name": "stderr",
     "output_type": "stream",
     "text": [
      "/Users/jules/Projects/green-hackathon/env/lib/python3.9/site-packages/urllib3/__init__.py:34: NotOpenSSLWarning: urllib3 v2.0 only supports OpenSSL 1.1.1+, currently the 'ssl' module is compiled with 'LibreSSL 2.8.3'. See: https://github.com/urllib3/urllib3/issues/3020\n",
      "  warnings.warn(\n",
      "/Users/jules/Projects/green-hackathon/env/lib/python3.9/site-packages/urllib3/__init__.py:34: NotOpenSSLWarning: urllib3 v2.0 only supports OpenSSL 1.1.1+, currently the 'ssl' module is compiled with 'LibreSSL 2.8.3'. See: https://github.com/urllib3/urllib3/issues/3020\n",
      "  warnings.warn(\n",
      "/Users/jules/Projects/green-hackathon/env/lib/python3.9/site-packages/urllib3/__init__.py:34: NotOpenSSLWarning: urllib3 v2.0 only supports OpenSSL 1.1.1+, currently the 'ssl' module is compiled with 'LibreSSL 2.8.3'. See: https://github.com/urllib3/urllib3/issues/3020\n",
      "  warnings.warn(\n",
      "/Users/jules/Projects/green-hackathon/env/lib/python3.9/site-packages/urllib3/__init__.py:34: NotOpenSSLWarning: urllib3 v2.0 only supports OpenSSL 1.1.1+, currently the 'ssl' module is compiled with 'LibreSSL 2.8.3'. See: https://github.com/urllib3/urllib3/issues/3020\n",
      "  warnings.warn(\n",
      "/Users/jules/Projects/green-hackathon/env/lib/python3.9/site-packages/urllib3/__init__.py:34: NotOpenSSLWarning: urllib3 v2.0 only supports OpenSSL 1.1.1+, currently the 'ssl' module is compiled with 'LibreSSL 2.8.3'. See: https://github.com/urllib3/urllib3/issues/3020\n",
      "  warnings.warn(\n",
      "[codecarbon INFO @ 15:41:20] Energy consumed for RAM : 0.001250 kWh. RAM Power : 6.0 W\n",
      "[codecarbon INFO @ 15:41:20] Energy consumed for all CPUs : 0.001042 kWh. Total CPU Power : 5.0 W\n",
      "[codecarbon INFO @ 15:41:20] 0.002292 kWh of electricity used since the beginning.\n",
      "[codecarbon INFO @ 15:41:35] Energy consumed for RAM : 0.001275 kWh. RAM Power : 6.0 W\n",
      "[codecarbon INFO @ 15:41:35] Energy consumed for all CPUs : 0.001063 kWh. Total CPU Power : 5.0 W\n",
      "[codecarbon INFO @ 15:41:35] 0.002338 kWh of electricity used since the beginning.\n",
      "[codecarbon INFO @ 15:41:50] Energy consumed for RAM : 0.001300 kWh. RAM Power : 6.0 W\n",
      "[codecarbon INFO @ 15:41:50] Energy consumed for all CPUs : 0.001084 kWh. Total CPU Power : 5.0 W\n",
      "[codecarbon INFO @ 15:41:50] 0.002384 kWh of electricity used since the beginning.\n"
     ]
    },
    {
     "name": "stdout",
     "output_type": "stream",
     "text": [
      "[17,  2270] loss: 0.011\n"
     ]
    },
    {
     "name": "stderr",
     "output_type": "stream",
     "text": [
      "/Users/jules/Projects/green-hackathon/env/lib/python3.9/site-packages/urllib3/__init__.py:34: NotOpenSSLWarning: urllib3 v2.0 only supports OpenSSL 1.1.1+, currently the 'ssl' module is compiled with 'LibreSSL 2.8.3'. See: https://github.com/urllib3/urllib3/issues/3020\n",
      "  warnings.warn(\n",
      "/Users/jules/Projects/green-hackathon/env/lib/python3.9/site-packages/urllib3/__init__.py:34: NotOpenSSLWarning: urllib3 v2.0 only supports OpenSSL 1.1.1+, currently the 'ssl' module is compiled with 'LibreSSL 2.8.3'. See: https://github.com/urllib3/urllib3/issues/3020\n",
      "  warnings.warn(\n",
      "/Users/jules/Projects/green-hackathon/env/lib/python3.9/site-packages/urllib3/__init__.py:34: NotOpenSSLWarning: urllib3 v2.0 only supports OpenSSL 1.1.1+, currently the 'ssl' module is compiled with 'LibreSSL 2.8.3'. See: https://github.com/urllib3/urllib3/issues/3020\n",
      "  warnings.warn(\n",
      "/Users/jules/Projects/green-hackathon/env/lib/python3.9/site-packages/urllib3/__init__.py:34: NotOpenSSLWarning: urllib3 v2.0 only supports OpenSSL 1.1.1+, currently the 'ssl' module is compiled with 'LibreSSL 2.8.3'. See: https://github.com/urllib3/urllib3/issues/3020\n",
      "  warnings.warn(\n",
      "/Users/jules/Projects/green-hackathon/env/lib/python3.9/site-packages/urllib3/__init__.py:34: NotOpenSSLWarning: urllib3 v2.0 only supports OpenSSL 1.1.1+, currently the 'ssl' module is compiled with 'LibreSSL 2.8.3'. See: https://github.com/urllib3/urllib3/issues/3020\n",
      "  warnings.warn(\n",
      "[codecarbon INFO @ 15:42:05] Energy consumed for RAM : 0.001325 kWh. RAM Power : 6.0 W\n",
      "[codecarbon INFO @ 15:42:05] Energy consumed for all CPUs : 0.001104 kWh. Total CPU Power : 5.0 W\n",
      "[codecarbon INFO @ 15:42:05] 0.002429 kWh of electricity used since the beginning.\n",
      "[codecarbon INFO @ 15:42:20] Energy consumed for RAM : 0.001350 kWh. RAM Power : 6.0 W\n",
      "[codecarbon INFO @ 15:42:20] Energy consumed for all CPUs : 0.001125 kWh. Total CPU Power : 5.0 W\n",
      "[codecarbon INFO @ 15:42:20] 0.002475 kWh of electricity used since the beginning.\n",
      "[codecarbon INFO @ 15:42:35] Energy consumed for RAM : 0.001375 kWh. RAM Power : 6.0 W\n",
      "[codecarbon INFO @ 15:42:35] Energy consumed for all CPUs : 0.001146 kWh. Total CPU Power : 5.0 W\n",
      "[codecarbon INFO @ 15:42:35] 0.002521 kWh of electricity used since the beginning.\n"
     ]
    },
    {
     "name": "stdout",
     "output_type": "stream",
     "text": [
      "[18,  2270] loss: 0.011\n"
     ]
    },
    {
     "name": "stderr",
     "output_type": "stream",
     "text": [
      "/Users/jules/Projects/green-hackathon/env/lib/python3.9/site-packages/urllib3/__init__.py:34: NotOpenSSLWarning: urllib3 v2.0 only supports OpenSSL 1.1.1+, currently the 'ssl' module is compiled with 'LibreSSL 2.8.3'. See: https://github.com/urllib3/urllib3/issues/3020\n",
      "  warnings.warn(\n",
      "/Users/jules/Projects/green-hackathon/env/lib/python3.9/site-packages/urllib3/__init__.py:34: NotOpenSSLWarning: urllib3 v2.0 only supports OpenSSL 1.1.1+, currently the 'ssl' module is compiled with 'LibreSSL 2.8.3'. See: https://github.com/urllib3/urllib3/issues/3020\n",
      "  warnings.warn(\n",
      "/Users/jules/Projects/green-hackathon/env/lib/python3.9/site-packages/urllib3/__init__.py:34: NotOpenSSLWarning: urllib3 v2.0 only supports OpenSSL 1.1.1+, currently the 'ssl' module is compiled with 'LibreSSL 2.8.3'. See: https://github.com/urllib3/urllib3/issues/3020\n",
      "  warnings.warn(\n",
      "/Users/jules/Projects/green-hackathon/env/lib/python3.9/site-packages/urllib3/__init__.py:34: NotOpenSSLWarning: urllib3 v2.0 only supports OpenSSL 1.1.1+, currently the 'ssl' module is compiled with 'LibreSSL 2.8.3'. See: https://github.com/urllib3/urllib3/issues/3020\n",
      "  warnings.warn(\n",
      "/Users/jules/Projects/green-hackathon/env/lib/python3.9/site-packages/urllib3/__init__.py:34: NotOpenSSLWarning: urllib3 v2.0 only supports OpenSSL 1.1.1+, currently the 'ssl' module is compiled with 'LibreSSL 2.8.3'. See: https://github.com/urllib3/urllib3/issues/3020\n",
      "  warnings.warn(\n",
      "[codecarbon INFO @ 15:42:50] Energy consumed for RAM : 0.001400 kWh. RAM Power : 6.0 W\n",
      "[codecarbon INFO @ 15:42:50] Energy consumed for all CPUs : 0.001167 kWh. Total CPU Power : 5.0 W\n",
      "[codecarbon INFO @ 15:42:50] 0.002567 kWh of electricity used since the beginning.\n",
      "[codecarbon INFO @ 15:43:05] Energy consumed for RAM : 0.001425 kWh. RAM Power : 6.0 W\n",
      "[codecarbon INFO @ 15:43:05] Energy consumed for all CPUs : 0.001188 kWh. Total CPU Power : 5.0 W\n",
      "[codecarbon INFO @ 15:43:05] 0.002613 kWh of electricity used since the beginning.\n",
      "[codecarbon INFO @ 15:43:20] Energy consumed for RAM : 0.001450 kWh. RAM Power : 6.0 W\n",
      "[codecarbon INFO @ 15:43:20] Energy consumed for all CPUs : 0.001209 kWh. Total CPU Power : 5.0 W\n",
      "[codecarbon INFO @ 15:43:20] 0.002659 kWh of electricity used since the beginning.\n"
     ]
    },
    {
     "name": "stdout",
     "output_type": "stream",
     "text": [
      "[19,  2270] loss: 0.010\n"
     ]
    },
    {
     "name": "stderr",
     "output_type": "stream",
     "text": [
      "/Users/jules/Projects/green-hackathon/env/lib/python3.9/site-packages/urllib3/__init__.py:34: NotOpenSSLWarning: urllib3 v2.0 only supports OpenSSL 1.1.1+, currently the 'ssl' module is compiled with 'LibreSSL 2.8.3'. See: https://github.com/urllib3/urllib3/issues/3020\n",
      "  warnings.warn(\n",
      "/Users/jules/Projects/green-hackathon/env/lib/python3.9/site-packages/urllib3/__init__.py:34: NotOpenSSLWarning: urllib3 v2.0 only supports OpenSSL 1.1.1+, currently the 'ssl' module is compiled with 'LibreSSL 2.8.3'. See: https://github.com/urllib3/urllib3/issues/3020\n",
      "  warnings.warn(\n",
      "/Users/jules/Projects/green-hackathon/env/lib/python3.9/site-packages/urllib3/__init__.py:34: NotOpenSSLWarning: urllib3 v2.0 only supports OpenSSL 1.1.1+, currently the 'ssl' module is compiled with 'LibreSSL 2.8.3'. See: https://github.com/urllib3/urllib3/issues/3020\n",
      "  warnings.warn(\n",
      "/Users/jules/Projects/green-hackathon/env/lib/python3.9/site-packages/urllib3/__init__.py:34: NotOpenSSLWarning: urllib3 v2.0 only supports OpenSSL 1.1.1+, currently the 'ssl' module is compiled with 'LibreSSL 2.8.3'. See: https://github.com/urllib3/urllib3/issues/3020\n",
      "  warnings.warn(\n",
      "/Users/jules/Projects/green-hackathon/env/lib/python3.9/site-packages/urllib3/__init__.py:34: NotOpenSSLWarning: urllib3 v2.0 only supports OpenSSL 1.1.1+, currently the 'ssl' module is compiled with 'LibreSSL 2.8.3'. See: https://github.com/urllib3/urllib3/issues/3020\n",
      "  warnings.warn(\n",
      "[codecarbon INFO @ 15:43:35] Energy consumed for RAM : 0.001475 kWh. RAM Power : 6.0 W\n",
      "[codecarbon INFO @ 15:43:35] Energy consumed for all CPUs : 0.001229 kWh. Total CPU Power : 5.0 W\n",
      "[codecarbon INFO @ 15:43:35] 0.002704 kWh of electricity used since the beginning.\n",
      "[codecarbon INFO @ 15:43:50] Energy consumed for RAM : 0.001500 kWh. RAM Power : 6.0 W\n",
      "[codecarbon INFO @ 15:43:50] Energy consumed for all CPUs : 0.001250 kWh. Total CPU Power : 5.0 W\n",
      "[codecarbon INFO @ 15:43:50] 0.002750 kWh of electricity used since the beginning.\n",
      "[codecarbon INFO @ 15:44:05] Energy consumed for RAM : 0.001525 kWh. RAM Power : 6.0 W\n",
      "[codecarbon INFO @ 15:44:05] Energy consumed for all CPUs : 0.001271 kWh. Total CPU Power : 5.0 W\n",
      "[codecarbon INFO @ 15:44:05] 0.002796 kWh of electricity used since the beginning.\n",
      "[codecarbon INFO @ 15:44:13] Energy consumed for RAM : 0.001539 kWh. RAM Power : 6.0 W\n",
      "[codecarbon INFO @ 15:44:13] Energy consumed for all CPUs : 0.001283 kWh. Total CPU Power : 5.0 W\n",
      "[codecarbon INFO @ 15:44:13] 0.002822 kWh of electricity used since the beginning.\n"
     ]
    },
    {
     "name": "stdout",
     "output_type": "stream",
     "text": [
      "[20,  2270] loss: 0.009\n",
      "Finished Training\n",
      "0.0001901408994799628\n"
     ]
    },
    {
     "name": "stderr",
     "output_type": "stream",
     "text": [
      "/Users/jules/Projects/green-hackathon/env/lib/python3.9/site-packages/codecarbon/output.py:168: FutureWarning: The behavior of DataFrame concatenation with empty or all-NA entries is deprecated. In a future version, this will no longer exclude empty or all-NA columns when determining the result dtypes. To retain the old behavior, exclude the relevant entries before the concat operation.\n",
      "  df = pd.concat([df, pd.DataFrame.from_records([dict(data.values)])])\n"
     ]
    }
   ],
   "source": [
    "import torch.optim as optim\n",
    "from codecarbon import EmissionsTracker\n",
    "\n",
    "criterion = nn.CrossEntropyLoss()\n",
    "optimizer_SGD = optim.SGD(model_3_layers_no_augmentation.parameters(), lr=0.001, momentum=0.9)\n",
    "n_epochs = 20\n",
    "\n",
    "tracker = EmissionsTracker()\n",
    "tracker.start()\n",
    "train_NN(n_epochs, optimizer_SGD, model_3_layers_no_augmentation, criterion)\n",
    "emissions: float = tracker.stop()\n",
    "print(emissions)\n",
    "\n"
   ]
  }
 ],
 "metadata": {
  "kernelspec": {
   "display_name": "Python 3 (ipykernel)",
   "language": "python",
   "name": "python3"
  },
  "language_info": {
   "codemirror_mode": {
    "name": "ipython",
    "version": 3
   },
   "file_extension": ".py",
   "mimetype": "text/x-python",
   "name": "python",
   "nbconvert_exporter": "python",
   "pygments_lexer": "ipython3",
   "version": "3.9.6"
  }
 },
 "nbformat": 4,
 "nbformat_minor": 5
}
