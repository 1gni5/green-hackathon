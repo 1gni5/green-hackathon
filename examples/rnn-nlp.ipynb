{
 "cells": [
  {
   "cell_type": "code",
   "execution_count": 1,
   "metadata": {
    "editable": true,
    "slideshow": {
     "slide_type": ""
    },
    "tags": [
     "parameters"
    ]
   },
   "outputs": [],
   "source": [
    "optimizer: str = 'rmsprop'\n",
    "epochs: int = 15\n",
    "batch_size: int = 32"
   ]
  },
  {
   "cell_type": "code",
   "execution_count": 2,
   "metadata": {
    "editable": true,
    "slideshow": {
     "slide_type": ""
    },
    "tags": []
   },
   "outputs": [
    {
     "name": "stderr",
     "output_type": "stream",
     "text": [
      "/Users/jules/Projects/notebooks/env/lib/python3.9/site-packages/urllib3/__init__.py:34: NotOpenSSLWarning: urllib3 v2.0 only supports OpenSSL 1.1.1+, currently the 'ssl' module is compiled with 'LibreSSL 2.8.3'. See: https://github.com/urllib3/urllib3/issues/3020\n",
      "  warnings.warn(\n"
     ]
    },
    {
     "name": "stdout",
     "output_type": "stream",
     "text": [
      "Loading data...\n",
      "25000 train sequences\n",
      "25000 test sequences\n",
      "Pad sequences (samples x time)\n",
      "input_train shape: (25000, 500)\n",
      "input_test shape: (25000, 500)\n"
     ]
    }
   ],
   "source": [
    "import tensorflow as tf\n",
    "from tensorflow.keras import layers\n",
    "from tensorflow.keras.datasets import imdb\n",
    "from tensorflow.keras.preprocessing import sequence\n",
    "from tensorflow.keras.models import Sequential\n",
    "\n",
    "# Load the IMDB dataset\n",
    "max_features = 10000  # Number of words to consider as features\n",
    "maxlen = 500  # Cuts off texts after this number of words (among the max_features most common words)\n",
    "\n",
    "print(\"Loading data...\")\n",
    "(input_train, y_train), (input_test, y_test) = imdb.load_data(num_words=max_features)\n",
    "print(len(input_train), \"train sequences\")\n",
    "print(len(input_test), \"test sequences\")\n",
    "\n",
    "# Pad sequences to a fixed length\n",
    "print(\"Pad sequences (samples x time)\")\n",
    "input_train = sequence.pad_sequences(input_train, maxlen=maxlen)\n",
    "input_test = sequence.pad_sequences(input_test, maxlen=maxlen)\n",
    "print(\"input_train shape:\", input_train.shape)\n",
    "print(\"input_test shape:\", input_test.shape)\n",
    "\n",
    "# Size of the dataset\n",
    "size = len(input_train) + len(input_test)"
   ]
  },
  {
   "cell_type": "code",
   "execution_count": 3,
   "metadata": {},
   "outputs": [],
   "source": [
    "# Build the RNN model\n",
    "model = Sequential()\n",
    "model.add(layers.Embedding(max_features, 32))\n",
    "model.add(layers.SimpleRNN(32))\n",
    "model.add(layers.Dense(1, activation='sigmoid'))"
   ]
  },
  {
   "cell_type": "code",
   "execution_count": 4,
   "metadata": {},
   "outputs": [],
   "source": [
    "# Compile the model\n",
    "model.compile(optimizer=optimizer, loss='binary_crossentropy', metrics=['accuracy'])"
   ]
  },
  {
   "cell_type": "code",
   "execution_count": 5,
   "metadata": {},
   "outputs": [
    {
     "name": "stdout",
     "output_type": "stream",
     "text": [
      "Training model...\n",
      "Epoch 1/15\n",
      "625/625 [==============================] - 21s 33ms/step - loss: 0.5907 - accuracy: 0.6704 - val_loss: 0.4086 - val_accuracy: 0.8248\n",
      "Epoch 2/15\n",
      "625/625 [==============================] - 21s 33ms/step - loss: 0.3699 - accuracy: 0.8450 - val_loss: 0.3515 - val_accuracy: 0.8582\n",
      "Epoch 3/15\n",
      "625/625 [==============================] - 21s 34ms/step - loss: 0.2772 - accuracy: 0.8913 - val_loss: 0.3721 - val_accuracy: 0.8524\n",
      "Epoch 4/15\n",
      "625/625 [==============================] - 21s 34ms/step - loss: 0.2403 - accuracy: 0.9078 - val_loss: 0.3746 - val_accuracy: 0.8510\n",
      "Epoch 5/15\n",
      "625/625 [==============================] - 22s 34ms/step - loss: 0.2005 - accuracy: 0.9250 - val_loss: 0.4144 - val_accuracy: 0.8600\n",
      "Epoch 6/15\n",
      "625/625 [==============================] - 22s 34ms/step - loss: 0.1486 - accuracy: 0.9456 - val_loss: 0.4977 - val_accuracy: 0.7970\n",
      "Epoch 7/15\n",
      "625/625 [==============================] - 22s 35ms/step - loss: 0.1204 - accuracy: 0.9566 - val_loss: 0.4597 - val_accuracy: 0.8344\n",
      "Epoch 8/15\n",
      "625/625 [==============================] - 22s 35ms/step - loss: 0.0852 - accuracy: 0.9701 - val_loss: 0.5359 - val_accuracy: 0.8480\n",
      "Epoch 9/15\n",
      "625/625 [==============================] - 22s 35ms/step - loss: 0.0613 - accuracy: 0.9789 - val_loss: 0.5931 - val_accuracy: 0.8350\n",
      "Epoch 10/15\n",
      "625/625 [==============================] - 22s 35ms/step - loss: 0.0442 - accuracy: 0.9858 - val_loss: 0.8354 - val_accuracy: 0.7508\n",
      "Epoch 11/15\n",
      "625/625 [==============================] - 22s 35ms/step - loss: 0.0288 - accuracy: 0.9912 - val_loss: 0.7747 - val_accuracy: 0.7918\n",
      "Epoch 12/15\n",
      "625/625 [==============================] - 22s 36ms/step - loss: 0.0293 - accuracy: 0.9904 - val_loss: 0.7523 - val_accuracy: 0.8060\n",
      "Epoch 13/15\n",
      "625/625 [==============================] - 22s 36ms/step - loss: 0.0185 - accuracy: 0.9944 - val_loss: 0.8960 - val_accuracy: 0.7976\n",
      "Epoch 14/15\n",
      "625/625 [==============================] - 22s 35ms/step - loss: 0.0181 - accuracy: 0.9942 - val_loss: 0.9951 - val_accuracy: 0.7746\n",
      "Epoch 15/15\n",
      "625/625 [==============================] - 22s 36ms/step - loss: 0.0153 - accuracy: 0.9950 - val_loss: 1.0679 - val_accuracy: 0.7526\n"
     ]
    }
   ],
   "source": [
    "from codecarbon import EmissionsTracker\n",
    "from examples.serializer import Serializer\n",
    "\n",
    "# Serialize the model\n",
    "serializer = Serializer()\n",
    "row = serializer.serialize(model, epochs, batch_size, size)\n",
    "\n",
    "# Start the emissions tracker\n",
    "tracker = EmissionsTracker(log_level='critical')\n",
    "tracker.start()\n",
    "\n",
    "# Train the model\n",
    "print(\"Training model...\")\n",
    "model.fit(input_train, y_train, epochs=epochs, batch_size=batch_size, validation_split=0.2)\n",
    "\n",
    "# Save the model carbon emissions\n",
    "row['co2'] = tracker.stop()"
   ]
  },
  {
   "cell_type": "code",
   "execution_count": 6,
   "metadata": {},
   "outputs": [
    {
     "name": "stdout",
     "output_type": "stream",
     "text": [
      "Evaluating model...\n",
      "782/782 [==============================] - 6s 8ms/step - loss: 1.0662 - accuracy: 0.7508\n",
      "Test accuracy: 0.7508400082588196\n"
     ]
    }
   ],
   "source": [
    "# Evaluate the model on the test set\n",
    "print(\"Evaluating model...\")\n",
    "accuracy = model.evaluate(input_test, y_test)[1]\n",
    "print(f'Test accuracy: {accuracy}')"
   ]
  },
  {
   "cell_type": "code",
   "execution_count": 7,
   "metadata": {},
   "outputs": [],
   "source": [
    "from csv import DictWriter\n",
    "\n",
    "# Save the model metadata\n",
    "with open('results.csv', 'a') as f:\n",
    "    writer = DictWriter(f, fieldnames=row.keys())\n",
    "    writer.writerow(row)"
   ]
  }
 ],
 "metadata": {
  "kernelspec": {
   "display_name": "Python 3 (ipykernel)",
   "language": "python",
   "name": "python3"
  },
  "language_info": {
   "codemirror_mode": {
    "name": "ipython",
    "version": 3
   },
   "file_extension": ".py",
   "mimetype": "text/x-python",
   "name": "python",
   "nbconvert_exporter": "python",
   "pygments_lexer": "ipython3",
   "version": "3.9.6"
  }
 },
 "nbformat": 4,
 "nbformat_minor": 4
}
