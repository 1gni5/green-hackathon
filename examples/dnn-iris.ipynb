{
 "cells": [
  {
   "cell_type": "code",
   "execution_count": null,
   "id": "bad36330",
   "metadata": {
    "editable": true,
    "execution": {
     "iopub.execute_input": "2023-11-10T09:18:34.118383Z",
     "iopub.status.busy": "2023-11-10T09:18:34.117987Z",
     "iopub.status.idle": "2023-11-10T09:18:34.127572Z",
     "shell.execute_reply": "2023-11-10T09:18:34.126983Z"
    },
    "papermill": {
     "duration": null,
     "end_time": null,
     "exception": null,
     "start_time": null,
     "status": "completed"
    },
    "slideshow": {
     "slide_type": ""
    },
    "tags": [
     "parameters"
    ]
   },
   "outputs": [],
   "source": [
    "optimizer: str = 'rmsprop'\n",
    "epochs: int = 35\n",
    "batch_size: int = 32"
   ]
  },
  {
   "cell_type": "code",
   "execution_count": null,
   "id": "8a16129e",
   "metadata": {
    "papermill": {
     "duration": null,
     "end_time": null,
     "exception": null,
     "start_time": null,
     "status": "completed"
    },
    "tags": [
     "injected-parameters"
    ]
   },
   "outputs": [],
   "source": [
    "# Parameters\n",
    "optimizer = \"adam\"\n",
    "epochs = 20\n",
    "batch_size = 32\n"
   ]
  },
  {
   "cell_type": "code",
   "execution_count": null,
   "id": "7b45ef0b",
   "metadata": {
    "editable": true,
    "execution": {
     "iopub.execute_input": "2023-11-10T09:18:34.146068Z",
     "iopub.status.busy": "2023-11-10T09:18:34.145813Z",
     "iopub.status.idle": "2023-11-10T09:18:36.313546Z",
     "shell.execute_reply": "2023-11-10T09:18:36.313234Z"
    },
    "papermill": {
     "duration": null,
     "end_time": null,
     "exception": null,
     "start_time": null,
     "status": "completed"
    },
    "slideshow": {
     "slide_type": ""
    },
    "tags": []
   },
   "outputs": [],
   "source": [
    "import tensorflow as tf\n",
    "from sklearn.datasets import load_iris\n",
    "from sklearn.model_selection import train_test_split\n",
    "from sklearn.preprocessing import StandardScaler\n",
    "from tensorflow.keras import layers, models\n",
    "\n",
    "# Load the Iris dataset\n",
    "iris = load_iris()\n",
    "X = iris.data\n",
    "y = iris.target\n",
    "\n",
    "# Split the dataset into training and testing sets\n",
    "X_train, X_test, y_train, y_test = train_test_split(X, y, test_size=0.2, random_state=42)\n",
    "\n",
    "# Standardize features by removing the mean and scaling to unit variance\n",
    "scaler = StandardScaler()\n",
    "X_train = scaler.fit_transform(X_train)\n",
    "X_test = scaler.transform(X_test)\n",
    "\n",
    "# Convert labels to one-hot encoding\n",
    "y_train = tf.keras.utils.to_categorical(y_train, num_classes=3)\n",
    "y_test = tf.keras.utils.to_categorical(y_test, num_classes=3)\n",
    "\n",
    "# Size of dataset\n",
    "size = iris.data.shape[0]"
   ]
  },
  {
   "cell_type": "code",
   "execution_count": null,
   "id": "fc32f6ef",
   "metadata": {
    "execution": {
     "iopub.execute_input": "2023-11-10T09:18:36.317851Z",
     "iopub.status.busy": "2023-11-10T09:18:36.317640Z",
     "iopub.status.idle": "2023-11-10T09:18:36.350531Z",
     "shell.execute_reply": "2023-11-10T09:18:36.350177Z"
    },
    "papermill": {
     "duration": null,
     "end_time": null,
     "exception": null,
     "start_time": null,
     "status": "completed"
    },
    "tags": []
   },
   "outputs": [],
   "source": [
    "# Build the neural network model\n",
    "model = models.Sequential()\n",
    "model.add(layers.Dense(64, activation='relu', input_shape=(4,)))\n",
    "model.add(layers.Dense(32, activation='relu'))\n",
    "model.add(layers.Dense(3, activation='softmax'))"
   ]
  },
  {
   "cell_type": "code",
   "execution_count": null,
   "id": "3632a642",
   "metadata": {
    "execution": {
     "iopub.execute_input": "2023-11-10T09:18:36.354511Z",
     "iopub.status.busy": "2023-11-10T09:18:36.354389Z",
     "iopub.status.idle": "2023-11-10T09:18:36.359842Z",
     "shell.execute_reply": "2023-11-10T09:18:36.359571Z"
    },
    "papermill": {
     "duration": null,
     "end_time": null,
     "exception": null,
     "start_time": null,
     "status": "completed"
    },
    "tags": []
   },
   "outputs": [],
   "source": [
    "# Compile the model\n",
    "model.compile(optimizer=optimizer,\n",
    "              loss='categorical_crossentropy',\n",
    "              metrics=['accuracy'])"
   ]
  },
  {
   "cell_type": "code",
   "execution_count": null,
   "id": "994047fa",
   "metadata": {
    "execution": {
     "iopub.execute_input": "2023-11-10T09:18:36.363361Z",
     "iopub.status.busy": "2023-11-10T09:18:36.363248Z",
     "iopub.status.idle": "2023-11-10T09:18:38.301781Z",
     "shell.execute_reply": "2023-11-10T09:18:38.301414Z"
    },
    "papermill": {
     "duration": null,
     "end_time": null,
     "exception": null,
     "start_time": null,
     "status": "completed"
    },
    "tags": []
   },
   "outputs": [],
   "source": [
    "from codecarbon import EmissionsTracker\n",
    "from examples.serializer import Serializer\n",
    "\n",
    "# Serialize the model\n",
    "serializer = Serializer()\n",
    "row = serializer.serialize(model, epochs, batch_size, size)\n",
    "\n",
    "# Start the emissions tracker\n",
    "tracker = EmissionsTracker(log_level='critical')\n",
    "tracker.start()\n",
    "\n",
    "# Train the model\n",
    "model.fit(X_train, y_train, epochs=epochs, batch_size=batch_size, validation_split=0.1)\n",
    "\n",
    "# Save the model carbon emissions\n",
    "row['co2'] = tracker.stop()"
   ]
  },
  {
   "cell_type": "code",
   "execution_count": null,
   "id": "84280ae1",
   "metadata": {
    "execution": {
     "iopub.execute_input": "2023-11-10T09:18:38.308941Z",
     "iopub.status.busy": "2023-11-10T09:18:38.308776Z",
     "iopub.status.idle": "2023-11-10T09:18:38.337792Z",
     "shell.execute_reply": "2023-11-10T09:18:38.337510Z"
    },
    "papermill": {
     "duration": null,
     "end_time": null,
     "exception": null,
     "start_time": null,
     "status": "completed"
    },
    "tags": []
   },
   "outputs": [],
   "source": [
    "# Evaluate the model on the test set\n",
    "test_loss, test_acc = model.evaluate(X_test, y_test)\n",
    "print(f'Test accuracy: {test_acc}')"
   ]
  },
  {
   "cell_type": "code",
   "execution_count": null,
   "id": "f4213755",
   "metadata": {
    "execution": {
     "iopub.execute_input": "2023-11-10T09:18:38.343911Z",
     "iopub.status.busy": "2023-11-10T09:18:38.343791Z",
     "iopub.status.idle": "2023-11-10T09:18:38.346353Z",
     "shell.execute_reply": "2023-11-10T09:18:38.346012Z"
    },
    "papermill": {
     "duration": null,
     "end_time": null,
     "exception": null,
     "start_time": null,
     "status": "completed"
    },
    "tags": []
   },
   "outputs": [],
   "source": [
    "from csv import DictWriter\n",
    "\n",
    "# Save the model metadata\n",
    "with open('results.csv', 'a') as f:\n",
    "    writer = DictWriter(f, fieldnames=row.keys())\n",
    "    writer.writerow(row)"
   ]
  }
 ],
 "metadata": {
  "kernelspec": {
   "display_name": "Python 3 (ipykernel)",
   "language": "python",
   "name": "python3"
  },
  "language_info": {
   "codemirror_mode": {
    "name": "ipython",
    "version": 3
   },
   "file_extension": ".py",
   "mimetype": "text/x-python",
   "name": "python",
   "nbconvert_exporter": "python",
   "pygments_lexer": "ipython3",
   "version": "3.9.6"
  },
  "papermill": {
   "default_parameters": {},
   "duration": 0.439898,
   "end_time": "2023-11-10T09:18:39.318186",
   "environment_variables": {},
   "exception": null,
   "input_path": "examples/dnn-iris.ipynb",
   "output_path": "examples/dnn-iris.ipynb",
   "parameters": {
    "batch_size": 32,
    "epochs": 20,
    "optimizer": "adam"
   },
   "start_time": "2023-11-10T09:18:38.878288",
   "version": "2.5.0"
  }
 },
 "nbformat": 4,
 "nbformat_minor": 5
}