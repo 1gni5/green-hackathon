{
 "cells": [
  {
   "cell_type": "code",
   "execution_count": 1,
   "id": "cd012498",
   "metadata": {},
   "outputs": [
    {
     "name": "stdout",
     "output_type": "stream",
     "text": [
      "Defaulting to user installation because normal site-packages is not writeable\n",
      "Collecting codecarbon\n",
      "  Downloading codecarbon-2.3.1-py3-none-any.whl (179 kB)\n",
      "Collecting py-cpuinfo\n",
      "  Downloading py_cpuinfo-9.0.0-py3-none-any.whl (22 kB)\n",
      "Requirement already satisfied: requests in c:\\anaconda3\\lib\\site-packages (from codecarbon) (2.27.1)\n",
      "Requirement already satisfied: click in c:\\anaconda3\\lib\\site-packages (from codecarbon) (8.0.4)\n",
      "Requirement already satisfied: arrow in c:\\anaconda3\\lib\\site-packages (from codecarbon) (1.2.2)\n",
      "Collecting pynvml\n",
      "  Downloading pynvml-11.5.0-py3-none-any.whl (53 kB)\n",
      "Requirement already satisfied: prometheus-client in c:\\anaconda3\\lib\\site-packages (from codecarbon) (0.13.1)\n",
      "Requirement already satisfied: pandas in c:\\anaconda3\\lib\\site-packages (from codecarbon) (1.4.2)\n",
      "Collecting fuzzywuzzy\n",
      "  Downloading fuzzywuzzy-0.18.0-py2.py3-none-any.whl (18 kB)\n",
      "Requirement already satisfied: psutil in c:\\anaconda3\\lib\\site-packages (from codecarbon) (5.8.0)\n",
      "Requirement already satisfied: python-dateutil>=2.7.0 in c:\\anaconda3\\lib\\site-packages (from arrow->codecarbon) (2.8.2)\n",
      "Requirement already satisfied: six>=1.5 in c:\\anaconda3\\lib\\site-packages (from python-dateutil>=2.7.0->arrow->codecarbon) (1.16.0)\n",
      "Requirement already satisfied: colorama in c:\\anaconda3\\lib\\site-packages (from click->codecarbon) (0.4.4)\n",
      "Requirement already satisfied: numpy>=1.18.5 in c:\\users\\tdang\\appdata\\roaming\\python\\python39\\site-packages (from pandas->codecarbon) (1.26.1)\n",
      "Requirement already satisfied: pytz>=2020.1 in c:\\anaconda3\\lib\\site-packages (from pandas->codecarbon) (2021.3)\n",
      "Requirement already satisfied: urllib3<1.27,>=1.21.1 in c:\\anaconda3\\lib\\site-packages (from requests->codecarbon) (1.26.9)\n",
      "Requirement already satisfied: certifi>=2017.4.17 in c:\\anaconda3\\lib\\site-packages (from requests->codecarbon) (2021.10.8)\n",
      "Requirement already satisfied: idna<4,>=2.5 in c:\\anaconda3\\lib\\site-packages (from requests->codecarbon) (3.3)\n",
      "Requirement already satisfied: charset-normalizer~=2.0.0 in c:\\anaconda3\\lib\\site-packages (from requests->codecarbon) (2.0.4)\n",
      "Installing collected packages: pynvml, py-cpuinfo, fuzzywuzzy, codecarbon\n",
      "Successfully installed codecarbon-2.3.1 fuzzywuzzy-0.18.0 py-cpuinfo-9.0.0 pynvml-11.5.0\n",
      "Note: you may need to restart the kernel to use updated packages.\n"
     ]
    },
    {
     "name": "stderr",
     "output_type": "stream",
     "text": [
      "WARNING: Ignoring invalid distribution -pencv-python (c:\\users\\tdang\\appdata\\roaming\\python\\python39\\site-packages)\n",
      "WARNING: Ignoring invalid distribution -pencv-python (c:\\users\\tdang\\appdata\\roaming\\python\\python39\\site-packages)\n",
      "WARNING: Ignoring invalid distribution -pencv-python (c:\\users\\tdang\\appdata\\roaming\\python\\python39\\site-packages)\n",
      "WARNING: Ignoring invalid distribution -pencv-python (c:\\users\\tdang\\appdata\\roaming\\python\\python39\\site-packages)\n",
      "WARNING: Ignoring invalid distribution -pencv-python (c:\\users\\tdang\\appdata\\roaming\\python\\python39\\site-packages)\n",
      "WARNING: Ignoring invalid distribution -pencv-python (c:\\users\\tdang\\appdata\\roaming\\python\\python39\\site-packages)\n",
      "WARNING: Ignoring invalid distribution -pencv-python (c:\\users\\tdang\\appdata\\roaming\\python\\python39\\site-packages)\n",
      "WARNING: Ignoring invalid distribution -pencv-python (c:\\users\\tdang\\appdata\\roaming\\python\\python39\\site-packages)\n",
      "WARNING: Ignoring invalid distribution -pencv-python (c:\\users\\tdang\\appdata\\roaming\\python\\python39\\site-packages)\n",
      "WARNING: Ignoring invalid distribution -pencv-python (c:\\users\\tdang\\appdata\\roaming\\python\\python39\\site-packages)\n"
     ]
    }
   ],
   "source": [
    "pip install codecarbon"
   ]
  },
  {
   "cell_type": "code",
   "execution_count": 2,
   "id": "0b575558",
   "metadata": {},
   "outputs": [
    {
     "name": "stdout",
     "output_type": "stream",
     "text": [
      "\n",
      "Welcome to CodeCarbon, here is your experiment id:\n",
      "73c54d65-6fc8-4a34-bef1-c56b3a73de67\n",
      "\n",
      "CodeCarbon automatically added this id to your local config: ./.codecarbon.config\n",
      "\n"
     ]
    }
   ],
   "source": [
    "! codecarbon init"
   ]
  },
  {
   "cell_type": "code",
   "execution_count": 3,
   "id": "9d2c083d",
   "metadata": {},
   "outputs": [],
   "source": [
    "## CNN \n",
    "import numpy as np\n",
    "import torch\n",
    "import torchvision\n",
    "import torchvision.transforms as transforms\n",
    "\n",
    "train_dir = './data/CNN/train_images'\n",
    "test_dir = './data/CNN/test_images'\n",
    "\n",
    "transform = transforms.Compose(\n",
    "    [transforms.Grayscale(),\n",
    "     transforms.ToTensor(),\n",
    "     transforms.Normalize(mean=(0,),std=(1,))])\n",
    "\n",
    "train_data = torchvision.datasets.ImageFolder(train_dir, transform=transform)\n",
    "test_data = torchvision.datasets.ImageFolder(test_dir, transform=transform)"
   ]
  },
  {
   "cell_type": "code",
   "execution_count": 4,
   "id": "74f149fc",
   "metadata": {},
   "outputs": [],
   "source": [
    "from torch.utils.data.sampler import SubsetRandomSampler\n",
    "\n",
    "valid_size = 0.2\n",
    "batch_size = 32\n",
    "seed = 42\n",
    "np.random.seed(seed)\n",
    "torch.manual_seed(seed)\n",
    "\n",
    "num_train = len(train_data)\n",
    "indices_train = list(range(num_train))\n",
    "np.random.shuffle(indices_train)\n",
    "split_tv = int(np.floor(valid_size * num_train))\n",
    "train_new_idx, valid_idx = indices_train[split_tv:],indices_train[:split_tv]\n",
    "\n",
    "train_sampler = SubsetRandomSampler(train_new_idx)\n",
    "valid_sampler = SubsetRandomSampler(valid_idx)\n",
    "\n",
    "train_loader = torch.utils.data.DataLoader(train_data, batch_size=batch_size, sampler=train_sampler, num_workers=5)\n",
    "valid_loader = torch.utils.data.DataLoader(train_data, batch_size=batch_size, sampler=valid_sampler, num_workers=5)\n",
    "test_loader = torch.utils.data.DataLoader(test_data, batch_size=batch_size, shuffle=True, num_workers=5)\n",
    "classes = ('noface','face')"
   ]
  },
  {
   "cell_type": "code",
   "execution_count": 5,
   "id": "7d0b4b6d",
   "metadata": {},
   "outputs": [],
   "source": [
    "# Set device\n",
    "device = torch.device(\"cuda\" if torch.cuda.is_available() else \"cpu\")"
   ]
  },
  {
   "cell_type": "code",
   "execution_count": 6,
   "id": "66e468c1",
   "metadata": {},
   "outputs": [],
   "source": [
    "import torch.nn as nn\n",
    "import torch.nn.functional as F\n",
    "\n",
    "\n",
    "class Net(nn.Module):\n",
    "    def __init__(self):\n",
    "        super(Net, self).__init__()\n",
    "        self.conv1 = nn.Conv2d(1, 6, 5)\n",
    "        self.pool = nn.MaxPool2d(2, 2)\n",
    "        self.conv2 = nn.Conv2d(6, 16, 5)\n",
    "        self.fc1 = nn.Linear(16 * 6 * 6, 32)\n",
    "        self.fc2 = nn.Linear(32, 16)\n",
    "        self.fc3 = nn.Linear(16, 2)\n",
    "\n",
    "    def forward(self, x):\n",
    "        x = self.pool(F.relu(self.conv1(x)))\n",
    "        x = self.pool(F.relu(self.conv2(x)))\n",
    "        x = x.view(-1, 16 * 6 * 6)\n",
    "        x = F.relu(self.fc1(x))\n",
    "        x = F.relu(self.fc2(x))\n",
    "        x = self.fc3(x)\n",
    "        return x\n",
    "\n",
    "model_3_layers_no_augmentation = Net().to(device)"
   ]
  },
  {
   "cell_type": "code",
   "execution_count": 8,
   "id": "b03d6235",
   "metadata": {},
   "outputs": [],
   "source": [
    "def train_NN(n_epochs, optimizer, model, criterion):\n",
    "    for epoch in range(1, n_epochs+1):  # loop over the dataset multiple times\n",
    "        running_loss = 0.0\n",
    "        for i, data in enumerate(train_loader, 0):\n",
    "            # get the inputs; data is a list of [inputs, labels]\n",
    "            inputs, labels = data\n",
    "            inputs = inputs.to(device)\n",
    "            labels = labels.to(device)\n",
    "            # zero the parameter gradients\n",
    "            optimizer.zero_grad()\n",
    "\n",
    "            # forward + backward + optimize\n",
    "            outputs = model(inputs)\n",
    "            loss = criterion(outputs, labels)\n",
    "            loss.backward()\n",
    "            optimizer.step()\n",
    "\n",
    "            running_loss += loss.item()\n",
    "\n",
    "        # print statistics after every epoch\n",
    "        print(f'[{epoch}, {i + 1:5d}] loss: {running_loss / len(train_loader):.3f}')\n",
    "\n",
    "    print('Finished Training')"
   ]
  },
  {
   "cell_type": "code",
   "execution_count": 10,
   "id": "f0d8f08d",
   "metadata": {},
   "outputs": [
    {
     "name": "stdout",
     "output_type": "stream",
     "text": [
      "2270\n"
     ]
    }
   ],
   "source": [
    "print(len(train_loader))"
   ]
  },
  {
   "cell_type": "code",
   "execution_count": 12,
   "id": "4107c6ff",
   "metadata": {},
   "outputs": [
    {
     "name": "stderr",
     "output_type": "stream",
     "text": [
      "[codecarbon INFO @ 15:06:27] [setup] RAM Tracking...\n",
      "[codecarbon INFO @ 15:06:27] [setup] GPU Tracking...\n",
      "[codecarbon INFO @ 15:06:27] Tracking Nvidia GPU via pynvml\n",
      "[codecarbon INFO @ 15:06:27] [setup] CPU Tracking...\n",
      "[codecarbon WARNING @ 15:06:27] No CPU tracking mode found. Falling back on CPU constant mode.\n",
      "[codecarbon INFO @ 15:06:29] CPU Model on constant consumption mode: Intel(R) Core(TM) i9-10900 CPU @ 2.80GHz\n",
      "[codecarbon INFO @ 15:06:29] >>> Tracker's metadata:\n",
      "[codecarbon INFO @ 15:06:29]   Platform system: Windows-10-10.0.19044-SP0\n",
      "[codecarbon INFO @ 15:06:29]   Python version: 3.9.12\n",
      "[codecarbon INFO @ 15:06:29]   CodeCarbon version: 2.3.1\n",
      "[codecarbon INFO @ 15:06:29]   Available RAM : 31.742 GB\n",
      "[codecarbon INFO @ 15:06:29]   CPU count: 20\n",
      "[codecarbon INFO @ 15:06:29]   CPU model: Intel(R) Core(TM) i9-10900 CPU @ 2.80GHz\n",
      "[codecarbon INFO @ 15:06:29]   GPU count: 1\n",
      "[codecarbon INFO @ 15:06:29]   GPU model: 1 x NVIDIA GeForce RTX 3060\n",
      "[codecarbon INFO @ 15:06:44] Energy consumed for RAM : 0.000050 kWh. RAM Power : 11.903344631195068 W\n",
      "[codecarbon INFO @ 15:06:44] Energy consumed for all GPUs : 0.000045 kWh. Total GPU Power : 10.786329413053485 W\n",
      "[codecarbon INFO @ 15:06:44] Energy consumed for all CPUs : 0.000135 kWh. Total CPU Power : 32.5 W\n",
      "[codecarbon INFO @ 15:06:44] 0.000230 kWh of electricity used since the beginning.\n",
      "[codecarbon INFO @ 15:06:59] Energy consumed for RAM : 0.000099 kWh. RAM Power : 11.903344631195068 W\n",
      "[codecarbon INFO @ 15:06:59] Energy consumed for all GPUs : 0.000088 kWh. Total GPU Power : 10.395851331652757 W\n",
      "[codecarbon INFO @ 15:06:59] Energy consumed for all CPUs : 0.000271 kWh. Total CPU Power : 32.5 W\n",
      "[codecarbon INFO @ 15:06:59] 0.000458 kWh of electricity used since the beginning.\n",
      "[codecarbon INFO @ 15:07:14] Energy consumed for RAM : 0.000149 kWh. RAM Power : 11.903344631195068 W\n",
      "[codecarbon INFO @ 15:07:14] Energy consumed for all GPUs : 0.000131 kWh. Total GPU Power : 10.344533312024863 W\n",
      "[codecarbon INFO @ 15:07:14] Energy consumed for all CPUs : 0.000406 kWh. Total CPU Power : 32.5 W\n",
      "[codecarbon INFO @ 15:07:14] 0.000687 kWh of electricity used since the beginning.\n",
      "[codecarbon INFO @ 15:07:29] Energy consumed for RAM : 0.000198 kWh. RAM Power : 11.903344631195068 W\n",
      "[codecarbon INFO @ 15:07:29] Energy consumed for all GPUs : 0.000175 kWh. Total GPU Power : 10.469674956846381 W\n",
      "[codecarbon INFO @ 15:07:29] Energy consumed for all CPUs : 0.000542 kWh. Total CPU Power : 32.5 W\n",
      "[codecarbon INFO @ 15:07:29] 0.000915 kWh of electricity used since the beginning.\n",
      "[codecarbon INFO @ 15:07:44] Energy consumed for RAM : 0.000248 kWh. RAM Power : 11.903344631195068 W\n",
      "[codecarbon INFO @ 15:07:44] Energy consumed for all GPUs : 0.000217 kWh. Total GPU Power : 10.034132633830502 W\n",
      "[codecarbon INFO @ 15:07:44] Energy consumed for all CPUs : 0.000677 kWh. Total CPU Power : 32.5 W\n",
      "[codecarbon INFO @ 15:07:44] 0.001142 kWh of electricity used since the beginning.\n",
      "[codecarbon INFO @ 15:08:00] Energy consumed for RAM : 0.000298 kWh. RAM Power : 11.903344631195068 W\n",
      "[codecarbon INFO @ 15:08:00] Energy consumed for all GPUs : 0.000261 kWh. Total GPU Power : 10.65931398295149 W\n",
      "[codecarbon INFO @ 15:08:00] Energy consumed for all CPUs : 0.000813 kWh. Total CPU Power : 32.5 W\n",
      "[codecarbon INFO @ 15:08:00] 0.001372 kWh of electricity used since the beginning.\n"
     ]
    },
    {
     "name": "stdout",
     "output_type": "stream",
     "text": [
      "[1,  2270] loss: 0.595\n"
     ]
    },
    {
     "name": "stderr",
     "output_type": "stream",
     "text": [
      "[codecarbon INFO @ 15:08:15] Energy consumed for RAM : 0.000347 kWh. RAM Power : 11.903344631195068 W\n",
      "[codecarbon INFO @ 15:08:15] Energy consumed for all GPUs : 0.000300 kWh. Total GPU Power : 9.367924945983011 W\n",
      "[codecarbon INFO @ 15:08:15] Energy consumed for all CPUs : 0.000948 kWh. Total CPU Power : 32.5 W\n",
      "[codecarbon INFO @ 15:08:15] 0.001596 kWh of electricity used since the beginning.\n"
     ]
    },
    {
     "name": "stdout",
     "output_type": "stream",
     "text": [
      "[2,  2270] loss: 0.237\n"
     ]
    },
    {
     "name": "stderr",
     "output_type": "stream",
     "text": [
      "[codecarbon INFO @ 15:08:30] Energy consumed for RAM : 0.000397 kWh. RAM Power : 11.903344631195068 W\n",
      "[codecarbon INFO @ 15:08:30] Energy consumed for all GPUs : 0.000376 kWh. Total GPU Power : 18.09472118182884 W\n",
      "[codecarbon INFO @ 15:08:30] Energy consumed for all CPUs : 0.001084 kWh. Total CPU Power : 32.5 W\n",
      "[codecarbon INFO @ 15:08:30] 0.001857 kWh of electricity used since the beginning.\n"
     ]
    },
    {
     "name": "stdout",
     "output_type": "stream",
     "text": [
      "[3,  2270] loss: 0.115\n"
     ]
    },
    {
     "name": "stderr",
     "output_type": "stream",
     "text": [
      "[codecarbon INFO @ 15:08:45] Energy consumed for RAM : 0.000447 kWh. RAM Power : 11.903344631195068 W\n",
      "[codecarbon INFO @ 15:08:45] Energy consumed for all GPUs : 0.000450 kWh. Total GPU Power : 17.827239136188275 W\n",
      "[codecarbon INFO @ 15:08:45] Energy consumed for all CPUs : 0.001219 kWh. Total CPU Power : 32.5 W\n",
      "[codecarbon INFO @ 15:08:45] 0.002116 kWh of electricity used since the beginning.\n"
     ]
    },
    {
     "name": "stdout",
     "output_type": "stream",
     "text": [
      "[4,  2270] loss: 0.077\n"
     ]
    },
    {
     "name": "stderr",
     "output_type": "stream",
     "text": [
      "[codecarbon INFO @ 15:09:00] Energy consumed for RAM : 0.000496 kWh. RAM Power : 11.903344631195068 W\n",
      "[codecarbon INFO @ 15:09:00] Energy consumed for all GPUs : 0.000511 kWh. Total GPU Power : 14.483588121753195 W\n",
      "[codecarbon INFO @ 15:09:00] Energy consumed for all CPUs : 0.001355 kWh. Total CPU Power : 32.5 W\n",
      "[codecarbon INFO @ 15:09:00] 0.002362 kWh of electricity used since the beginning.\n",
      "[codecarbon INFO @ 15:09:15] Energy consumed for RAM : 0.000546 kWh. RAM Power : 11.903344631195068 W\n",
      "[codecarbon INFO @ 15:09:15] Energy consumed for all GPUs : 0.000584 kWh. Total GPU Power : 17.538481624187842 W\n",
      "[codecarbon INFO @ 15:09:15] Energy consumed for all CPUs : 0.001490 kWh. Total CPU Power : 32.5 W\n",
      "[codecarbon INFO @ 15:09:15] 0.002620 kWh of electricity used since the beginning.\n"
     ]
    },
    {
     "name": "stdout",
     "output_type": "stream",
     "text": [
      "[5,  2270] loss: 0.058\n"
     ]
    },
    {
     "name": "stderr",
     "output_type": "stream",
     "text": [
      "[codecarbon INFO @ 15:09:30] Energy consumed for RAM : 0.000595 kWh. RAM Power : 11.903344631195068 W\n",
      "[codecarbon INFO @ 15:09:30] Energy consumed for all GPUs : 0.000663 kWh. Total GPU Power : 19.125331994342186 W\n",
      "[codecarbon INFO @ 15:09:30] Energy consumed for all CPUs : 0.001626 kWh. Total CPU Power : 32.5 W\n",
      "[codecarbon INFO @ 15:09:30] 0.002885 kWh of electricity used since the beginning.\n"
     ]
    },
    {
     "name": "stdout",
     "output_type": "stream",
     "text": [
      "[6,  2270] loss: 0.048\n"
     ]
    },
    {
     "name": "stderr",
     "output_type": "stream",
     "text": [
      "[codecarbon INFO @ 15:09:45] Energy consumed for RAM : 0.000645 kWh. RAM Power : 11.903344631195068 W\n",
      "[codecarbon INFO @ 15:09:45] Energy consumed for all GPUs : 0.000718 kWh. Total GPU Power : 13.032006777169391 W\n",
      "[codecarbon INFO @ 15:09:45] Energy consumed for all CPUs : 0.001761 kWh. Total CPU Power : 32.5 W\n",
      "[codecarbon INFO @ 15:09:45] 0.003124 kWh of electricity used since the beginning.\n"
     ]
    },
    {
     "name": "stdout",
     "output_type": "stream",
     "text": [
      "[7,  2270] loss: 0.039\n"
     ]
    },
    {
     "name": "stderr",
     "output_type": "stream",
     "text": [
      "[codecarbon INFO @ 15:10:00] Energy consumed for RAM : 0.000695 kWh. RAM Power : 11.903344631195068 W\n",
      "[codecarbon INFO @ 15:10:00] Energy consumed for all GPUs : 0.000773 kWh. Total GPU Power : 13.250464210219812 W\n",
      "[codecarbon INFO @ 15:10:00] Energy consumed for all CPUs : 0.001897 kWh. Total CPU Power : 32.5 W\n",
      "[codecarbon INFO @ 15:10:00] 0.003364 kWh of electricity used since the beginning.\n"
     ]
    },
    {
     "name": "stdout",
     "output_type": "stream",
     "text": [
      "[8,  2270] loss: 0.033\n"
     ]
    },
    {
     "name": "stderr",
     "output_type": "stream",
     "text": [
      "[codecarbon INFO @ 15:10:15] Energy consumed for RAM : 0.000744 kWh. RAM Power : 11.903344631195068 W\n",
      "[codecarbon INFO @ 15:10:15] Energy consumed for all GPUs : 0.000858 kWh. Total GPU Power : 20.481694464498087 W\n",
      "[codecarbon INFO @ 15:10:15] Energy consumed for all CPUs : 0.002032 kWh. Total CPU Power : 32.5 W\n",
      "[codecarbon INFO @ 15:10:15] 0.003635 kWh of electricity used since the beginning.\n"
     ]
    },
    {
     "name": "stdout",
     "output_type": "stream",
     "text": [
      "[9,  2270] loss: 0.028\n"
     ]
    },
    {
     "name": "stderr",
     "output_type": "stream",
     "text": [
      "[codecarbon INFO @ 15:10:30] Energy consumed for RAM : 0.000794 kWh. RAM Power : 11.903344631195068 W\n",
      "[codecarbon INFO @ 15:10:30] Energy consumed for all GPUs : 0.000923 kWh. Total GPU Power : 15.471619129000409 W\n",
      "[codecarbon INFO @ 15:10:30] Energy consumed for all CPUs : 0.002168 kWh. Total CPU Power : 32.5 W\n",
      "[codecarbon INFO @ 15:10:30] 0.003884 kWh of electricity used since the beginning.\n"
     ]
    },
    {
     "name": "stdout",
     "output_type": "stream",
     "text": [
      "[10,  2270] loss: 0.024\n"
     ]
    },
    {
     "name": "stderr",
     "output_type": "stream",
     "text": [
      "[codecarbon INFO @ 15:10:45] Energy consumed for RAM : 0.000843 kWh. RAM Power : 11.903344631195068 W\n",
      "[codecarbon INFO @ 15:10:45] Energy consumed for all GPUs : 0.000991 kWh. Total GPU Power : 16.37691354556295 W\n",
      "[codecarbon INFO @ 15:10:45] Energy consumed for all CPUs : 0.002303 kWh. Total CPU Power : 32.5 W\n",
      "[codecarbon INFO @ 15:10:45] 0.004138 kWh of electricity used since the beginning.\n"
     ]
    },
    {
     "name": "stdout",
     "output_type": "stream",
     "text": [
      "[11,  2270] loss: 0.022\n"
     ]
    },
    {
     "name": "stderr",
     "output_type": "stream",
     "text": [
      "[codecarbon INFO @ 15:11:00] Energy consumed for RAM : 0.000893 kWh. RAM Power : 11.903344631195068 W\n",
      "[codecarbon INFO @ 15:11:00] Energy consumed for all GPUs : 0.001065 kWh. Total GPU Power : 17.6739989330263 W\n",
      "[codecarbon INFO @ 15:11:00] Energy consumed for all CPUs : 0.002439 kWh. Total CPU Power : 32.5 W\n",
      "[codecarbon INFO @ 15:11:00] 0.004396 kWh of electricity used since the beginning.\n"
     ]
    },
    {
     "name": "stdout",
     "output_type": "stream",
     "text": [
      "[12,  2270] loss: 0.019\n"
     ]
    },
    {
     "name": "stderr",
     "output_type": "stream",
     "text": [
      "[codecarbon INFO @ 15:11:15] Energy consumed for RAM : 0.000943 kWh. RAM Power : 11.903344631195068 W\n",
      "[codecarbon INFO @ 15:11:15] Energy consumed for all GPUs : 0.001137 kWh. Total GPU Power : 17.268300404050407 W\n",
      "[codecarbon INFO @ 15:11:15] Energy consumed for all CPUs : 0.002574 kWh. Total CPU Power : 32.5 W\n",
      "[codecarbon INFO @ 15:11:15] 0.004653 kWh of electricity used since the beginning.\n",
      "[codecarbon INFO @ 15:11:30] Energy consumed for RAM : 0.000992 kWh. RAM Power : 11.903344631195068 W\n",
      "[codecarbon INFO @ 15:11:30] Energy consumed for all GPUs : 0.001192 kWh. Total GPU Power : 13.213722049823936 W\n",
      "[codecarbon INFO @ 15:11:30] Energy consumed for all CPUs : 0.002710 kWh. Total CPU Power : 32.5 W\n",
      "[codecarbon INFO @ 15:11:30] 0.004894 kWh of electricity used since the beginning.\n"
     ]
    },
    {
     "name": "stdout",
     "output_type": "stream",
     "text": [
      "[13,  2270] loss: 0.017\n"
     ]
    },
    {
     "name": "stderr",
     "output_type": "stream",
     "text": [
      "[codecarbon INFO @ 15:11:45] Energy consumed for RAM : 0.001042 kWh. RAM Power : 11.903344631195068 W\n",
      "[codecarbon INFO @ 15:11:45] Energy consumed for all GPUs : 0.001259 kWh. Total GPU Power : 16.09239707196675 W\n",
      "[codecarbon INFO @ 15:11:45] Energy consumed for all CPUs : 0.002845 kWh. Total CPU Power : 32.5 W\n",
      "[codecarbon INFO @ 15:11:45] 0.005146 kWh of electricity used since the beginning.\n"
     ]
    },
    {
     "name": "stdout",
     "output_type": "stream",
     "text": [
      "[14,  2270] loss: 0.015\n"
     ]
    },
    {
     "name": "stderr",
     "output_type": "stream",
     "text": [
      "[codecarbon INFO @ 15:12:00] Energy consumed for RAM : 0.001091 kWh. RAM Power : 11.903344631195068 W\n",
      "[codecarbon INFO @ 15:12:00] Energy consumed for all GPUs : 0.001318 kWh. Total GPU Power : 14.261939098203587 W\n",
      "[codecarbon INFO @ 15:12:00] Energy consumed for all CPUs : 0.002981 kWh. Total CPU Power : 32.5 W\n",
      "[codecarbon INFO @ 15:12:00] 0.005390 kWh of electricity used since the beginning.\n"
     ]
    },
    {
     "name": "stdout",
     "output_type": "stream",
     "text": [
      "[15,  2270] loss: 0.014\n"
     ]
    },
    {
     "name": "stderr",
     "output_type": "stream",
     "text": [
      "[codecarbon INFO @ 15:12:15] Energy consumed for RAM : 0.001141 kWh. RAM Power : 11.903344631195068 W\n",
      "[codecarbon INFO @ 15:12:15] Energy consumed for all GPUs : 0.001387 kWh. Total GPU Power : 16.417689732352876 W\n",
      "[codecarbon INFO @ 15:12:15] Energy consumed for all CPUs : 0.003116 kWh. Total CPU Power : 32.5 W\n",
      "[codecarbon INFO @ 15:12:15] 0.005644 kWh of electricity used since the beginning.\n"
     ]
    },
    {
     "name": "stdout",
     "output_type": "stream",
     "text": [
      "[16,  2270] loss: 0.013\n"
     ]
    },
    {
     "name": "stderr",
     "output_type": "stream",
     "text": [
      "[codecarbon INFO @ 15:12:30] Energy consumed for RAM : 0.001191 kWh. RAM Power : 11.903344631195068 W\n",
      "[codecarbon INFO @ 15:12:30] Energy consumed for all GPUs : 0.001451 kWh. Total GPU Power : 15.44017581930077 W\n",
      "[codecarbon INFO @ 15:12:30] Energy consumed for all CPUs : 0.003252 kWh. Total CPU Power : 32.5 W\n",
      "[codecarbon INFO @ 15:12:30] 0.005894 kWh of electricity used since the beginning.\n"
     ]
    },
    {
     "name": "stdout",
     "output_type": "stream",
     "text": [
      "[17,  2270] loss: 0.012\n"
     ]
    },
    {
     "name": "stderr",
     "output_type": "stream",
     "text": [
      "[codecarbon INFO @ 15:12:45] Energy consumed for RAM : 0.001240 kWh. RAM Power : 11.903344631195068 W\n",
      "[codecarbon INFO @ 15:12:45] Energy consumed for all GPUs : 0.001526 kWh. Total GPU Power : 18.03329351030505 W\n",
      "[codecarbon INFO @ 15:12:45] Energy consumed for all CPUs : 0.003387 kWh. Total CPU Power : 32.5 W\n",
      "[codecarbon INFO @ 15:12:45] 0.006154 kWh of electricity used since the beginning.\n"
     ]
    },
    {
     "name": "stdout",
     "output_type": "stream",
     "text": [
      "[18,  2270] loss: 0.011\n"
     ]
    },
    {
     "name": "stderr",
     "output_type": "stream",
     "text": [
      "[codecarbon INFO @ 15:13:00] Energy consumed for RAM : 0.001290 kWh. RAM Power : 11.903344631195068 W\n",
      "[codecarbon INFO @ 15:13:00] Energy consumed for all GPUs : 0.001602 kWh. Total GPU Power : 18.253073302573206 W\n",
      "[codecarbon INFO @ 15:13:00] Energy consumed for all CPUs : 0.003523 kWh. Total CPU Power : 32.5 W\n",
      "[codecarbon INFO @ 15:13:00] 0.006415 kWh of electricity used since the beginning.\n",
      "[codecarbon INFO @ 15:13:15] Energy consumed for RAM : 0.001340 kWh. RAM Power : 11.903344631195068 W\n",
      "[codecarbon INFO @ 15:13:15] Energy consumed for all GPUs : 0.001669 kWh. Total GPU Power : 16.00110370002785 W\n",
      "[codecarbon INFO @ 15:13:15] Energy consumed for all CPUs : 0.003658 kWh. Total CPU Power : 32.5 W\n",
      "[codecarbon INFO @ 15:13:15] 0.006667 kWh of electricity used since the beginning.\n"
     ]
    },
    {
     "name": "stdout",
     "output_type": "stream",
     "text": [
      "[19,  2270] loss: 0.010\n"
     ]
    },
    {
     "name": "stderr",
     "output_type": "stream",
     "text": [
      "[codecarbon INFO @ 15:13:30] Energy consumed for RAM : 0.001389 kWh. RAM Power : 11.903344631195068 W\n",
      "[codecarbon INFO @ 15:13:30] Energy consumed for all GPUs : 0.001738 kWh. Total GPU Power : 16.443736349515582 W\n",
      "[codecarbon INFO @ 15:13:30] Energy consumed for all CPUs : 0.003794 kWh. Total CPU Power : 32.5 W\n",
      "[codecarbon INFO @ 15:13:30] 0.006920 kWh of electricity used since the beginning.\n",
      "[codecarbon INFO @ 15:13:33] Energy consumed for RAM : 0.001398 kWh. RAM Power : 11.903344631195068 W\n",
      "[codecarbon INFO @ 15:13:33] Energy consumed for all GPUs : 0.001753 kWh. Total GPU Power : 19.44477847357605 W\n",
      "[codecarbon INFO @ 15:13:33] Energy consumed for all CPUs : 0.003819 kWh. Total CPU Power : 32.5 W\n",
      "[codecarbon INFO @ 15:13:33] 0.006970 kWh of electricity used since the beginning.\n"
     ]
    },
    {
     "name": "stdout",
     "output_type": "stream",
     "text": [
      "[20,  2270] loss: 0.009\n",
      "Finished Training\n",
      "0.0004697101059861965\n"
     ]
    },
    {
     "ename": "RuntimeError",
     "evalue": "Parent directory models does not exist.",
     "output_type": "error",
     "traceback": [
      "\u001b[1;31m---------------------------------------------------------------------------\u001b[0m",
      "\u001b[1;31mRuntimeError\u001b[0m                              Traceback (most recent call last)",
      "Input \u001b[1;32mIn [12]\u001b[0m, in \u001b[0;36m<cell line: 16>\u001b[1;34m()\u001b[0m\n\u001b[0;32m     14\u001b[0m \u001b[38;5;66;03m# save the model after training\u001b[39;00m\n\u001b[0;32m     15\u001b[0m PATH \u001b[38;5;241m=\u001b[39m \u001b[38;5;124m'\u001b[39m\u001b[38;5;124mmodels/original.pth\u001b[39m\u001b[38;5;124m'\u001b[39m\n\u001b[1;32m---> 16\u001b[0m \u001b[43mtorch\u001b[49m\u001b[38;5;241;43m.\u001b[39;49m\u001b[43msave\u001b[49m\u001b[43m(\u001b[49m\u001b[43mmodel_3_layers_no_augmentation\u001b[49m\u001b[38;5;241;43m.\u001b[39;49m\u001b[43mstate_dict\u001b[49m\u001b[43m(\u001b[49m\u001b[43m)\u001b[49m\u001b[43m,\u001b[49m\u001b[43m \u001b[49m\u001b[43mPATH\u001b[49m\u001b[43m)\u001b[49m\n",
      "File \u001b[1;32m~\\AppData\\Roaming\\Python\\Python39\\site-packages\\torch\\serialization.py:440\u001b[0m, in \u001b[0;36msave\u001b[1;34m(obj, f, pickle_module, pickle_protocol, _use_new_zipfile_serialization)\u001b[0m\n\u001b[0;32m    437\u001b[0m _check_save_filelike(f)\n\u001b[0;32m    439\u001b[0m \u001b[38;5;28;01mif\u001b[39;00m _use_new_zipfile_serialization:\n\u001b[1;32m--> 440\u001b[0m     \u001b[38;5;28;01mwith\u001b[39;00m \u001b[43m_open_zipfile_writer\u001b[49m\u001b[43m(\u001b[49m\u001b[43mf\u001b[49m\u001b[43m)\u001b[49m \u001b[38;5;28;01mas\u001b[39;00m opened_zipfile:\n\u001b[0;32m    441\u001b[0m         _save(obj, opened_zipfile, pickle_module, pickle_protocol)\n\u001b[0;32m    442\u001b[0m         \u001b[38;5;28;01mreturn\u001b[39;00m\n",
      "File \u001b[1;32m~\\AppData\\Roaming\\Python\\Python39\\site-packages\\torch\\serialization.py:315\u001b[0m, in \u001b[0;36m_open_zipfile_writer\u001b[1;34m(name_or_buffer)\u001b[0m\n\u001b[0;32m    313\u001b[0m \u001b[38;5;28;01melse\u001b[39;00m:\n\u001b[0;32m    314\u001b[0m     container \u001b[38;5;241m=\u001b[39m _open_zipfile_writer_buffer\n\u001b[1;32m--> 315\u001b[0m \u001b[38;5;28;01mreturn\u001b[39;00m \u001b[43mcontainer\u001b[49m\u001b[43m(\u001b[49m\u001b[43mname_or_buffer\u001b[49m\u001b[43m)\u001b[49m\n",
      "File \u001b[1;32m~\\AppData\\Roaming\\Python\\Python39\\site-packages\\torch\\serialization.py:288\u001b[0m, in \u001b[0;36m_open_zipfile_writer_file.__init__\u001b[1;34m(self, name)\u001b[0m\n\u001b[0;32m    287\u001b[0m \u001b[38;5;28;01mdef\u001b[39;00m \u001b[38;5;21m__init__\u001b[39m(\u001b[38;5;28mself\u001b[39m, name) \u001b[38;5;241m-\u001b[39m\u001b[38;5;241m>\u001b[39m \u001b[38;5;28;01mNone\u001b[39;00m:\n\u001b[1;32m--> 288\u001b[0m     \u001b[38;5;28msuper\u001b[39m()\u001b[38;5;241m.\u001b[39m\u001b[38;5;21m__init__\u001b[39m(\u001b[43mtorch\u001b[49m\u001b[38;5;241;43m.\u001b[39;49m\u001b[43m_C\u001b[49m\u001b[38;5;241;43m.\u001b[39;49m\u001b[43mPyTorchFileWriter\u001b[49m\u001b[43m(\u001b[49m\u001b[38;5;28;43mstr\u001b[39;49m\u001b[43m(\u001b[49m\u001b[43mname\u001b[49m\u001b[43m)\u001b[49m\u001b[43m)\u001b[49m)\n",
      "\u001b[1;31mRuntimeError\u001b[0m: Parent directory models does not exist."
     ]
    }
   ],
   "source": [
    "import torch.optim as optim\n",
    "from codecarbon import EmissionsTracker\n",
    "\n",
    "criterion = nn.CrossEntropyLoss()\n",
    "optimizer_SGD = optim.SGD(model_3_layers_no_augmentation.parameters(), lr=0.001, momentum=0.9)\n",
    "n_epochs = 20\n",
    "\n",
    "tracker = EmissionsTracker()\n",
    "tracker.start()\n",
    "train_NN(n_epochs, optimizer_SGD, model_3_layers_no_augmentation, criterion)\n",
    "emissions: float = tracker.stop()\n",
    "print(emissions)\n",
    "\n"
   ]
  }
 ],
 "metadata": {
  "kernelspec": {
   "display_name": "Python 3 (ipykernel)",
   "language": "python",
   "name": "python3"
  },
  "language_info": {
   "codemirror_mode": {
    "name": "ipython",
    "version": 3
   },
   "file_extension": ".py",
   "mimetype": "text/x-python",
   "name": "python",
   "nbconvert_exporter": "python",
   "pygments_lexer": "ipython3",
   "version": "3.9.12"
  }
 },
 "nbformat": 4,
 "nbformat_minor": 5
}
